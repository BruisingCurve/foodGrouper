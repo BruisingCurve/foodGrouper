{
 "metadata": {
  "name": ""
 },
 "nbformat": 3,
 "nbformat_minor": 0,
 "worksheets": [
  {
   "cells": [
    {
     "cell_type": "code",
     "collapsed": false,
     "input": [
      "import pandas as pd\n",
      "import numpy as np\n",
      "import scipy as sp\n",
      "import pdb"
     ],
     "language": "python",
     "metadata": {},
     "outputs": [],
     "prompt_number": 14
    },
    {
     "cell_type": "code",
     "collapsed": false,
     "input": [
      "data_path = '/Users/Admin/Desktop/CityPopulations.csv'"
     ],
     "language": "python",
     "metadata": {},
     "outputs": [],
     "prompt_number": 17
    },
    {
     "cell_type": "code",
     "collapsed": false,
     "input": [
      "df = pd.DataFrame.from_csv(data_path)"
     ],
     "language": "python",
     "metadata": {},
     "outputs": [],
     "prompt_number": 29
    },
    {
     "cell_type": "code",
     "collapsed": false,
     "input": [
      "lat_arr = []\n",
      "long_arr = []\n",
      "for a in df['Location']:\n",
      "    b = a.split()\n",
      "    lat_arr.append(float(b[0][:-1]))\n",
      "    long_arr.append(-1.0*float(b[1][:-1]))"
     ],
     "language": "python",
     "metadata": {},
     "outputs": [],
     "prompt_number": 30
    },
    {
     "cell_type": "code",
     "collapsed": false,
     "input": [
      "df['latitude'] = lat_arr\n",
      "df['longitude'] = long_arr"
     ],
     "language": "python",
     "metadata": {},
     "outputs": [],
     "prompt_number": 31
    },
    {
     "cell_type": "code",
     "collapsed": false,
     "input": [
      "df.to_csv(data_path)"
     ],
     "language": "python",
     "metadata": {},
     "outputs": [],
     "prompt_number": 33
    },
    {
     "cell_type": "code",
     "collapsed": false,
     "input": [
      "test = pd.DataFrame.from_csv(data_path)"
     ],
     "language": "python",
     "metadata": {},
     "outputs": [],
     "prompt_number": 34
    },
    {
     "cell_type": "code",
     "collapsed": false,
     "input": [],
     "language": "python",
     "metadata": {},
     "outputs": [
      {
       "metadata": {},
       "output_type": "pyout",
       "prompt_number": 37,
       "text": [
        "City\n",
        "New York         40.6643\n",
        "Los Angeles      34.0194\n",
        "Chicago          41.8376\n",
        "Houston          29.7805\n",
        "Philadelphia     40.0094\n",
        "Phoenix          33.5722\n",
        "San Antonio      29.4724\n",
        "San Diego        32.8153\n",
        "Dallas           32.7757\n",
        "San Jose         37.2969\n",
        "Austin           30.3072\n",
        "Indianapolis     39.7767\n",
        "Jacksonville     30.3370\n",
        "San Francisco    37.7751\n",
        "Columbus         39.9848\n",
        "...\n",
        "West Palm Beach    26.748300\n",
        "Santa Maria        34.933200\n",
        "El Cajon           32.801700\n",
        "Davenport          41.554100\n",
        "Rialto             34.111800\n",
        "Edison             40.501283\n",
        "Las Cruces         32.319700\n",
        "San Mateo          37.554200\n",
        "Lewisville         33.038300\n",
        "South Bend         41.676900\n",
        "Lakeland           28.041100\n",
        "Erie               42.116600\n",
        "Tyler              32.350000\n",
        "Pearland           29.554400\n",
        "College Station    29.554400\n",
        "Name: latitude, Length: 294, dtype: float64"
       ]
      }
     ],
     "prompt_number": 37
    },
    {
     "cell_type": "code",
     "collapsed": false,
     "input": [],
     "language": "python",
     "metadata": {},
     "outputs": []
    }
   ],
   "metadata": {}
  }
 ]
}
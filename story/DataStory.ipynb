{
 "metadata": {
  "name": ""
 },
 "nbformat": 3,
 "nbformat_minor": 0,
 "worksheets": [
  {
   "cells": [
    {
     "cell_type": "code",
     "collapsed": false,
     "input": [
      "import pandas as pd\n",
      "import numpy as np\n",
      "import matplotlib.pyplot as plt\n",
      "import matplotlib as mpl\n",
      "import pymysql as mdb\n",
      "import pdb\n",
      "from collections import Counter\n",
      "import unicodedata\n",
      "from scipy import stats as st"
     ],
     "language": "python",
     "metadata": {},
     "outputs": [],
     "prompt_number": 166
    },
    {
     "cell_type": "code",
     "collapsed": false,
     "input": [
      "%matplotlib inline"
     ],
     "language": "python",
     "metadata": {},
     "outputs": [],
     "prompt_number": 24
    },
    {
     "cell_type": "code",
     "collapsed": false,
     "input": [
      "db = mdb.connect(user=\"root\",host=\"localhost\",passwd=\"konnichiwa1\",db=\"foodgrouper\")"
     ],
     "language": "python",
     "metadata": {},
     "outputs": [],
     "prompt_number": 2
    },
    {
     "cell_type": "code",
     "collapsed": false,
     "input": [
      "# Create a matrix of co-occurrence (e.g. - how often cafes are found in clusters with thai restaurants)\n",
      "query = 'select B.request_id, A.rating, A.review_count, A.categories, B.labels from Results as A join ClusterResults as B on A.result_id = B.result_id;'\n",
      "cur = db.cursor()\n",
      "cur.execute(query)\n",
      "result = cur.fetchall()"
     ],
     "language": "python",
     "metadata": {},
     "outputs": [],
     "prompt_number": 3
    },
    {
     "cell_type": "code",
     "collapsed": false,
     "input": [
      "# Build the dataframe\n",
      "df = pd.DataFrame(columns=('ID','rating','n_reviews','categories','cluster_num'))\n",
      "for i in range(len(result)):\n",
      "    df.loc[i] = result[i]"
     ],
     "language": "python",
     "metadata": {},
     "outputs": [],
     "prompt_number": 4
    },
    {
     "cell_type": "code",
     "collapsed": false,
     "input": [
      "#Split categoriess\n",
      "our_list = list(df['categories'])\n",
      "for i in range(len(our_list)):\n",
      "    our_list[i] = our_list[i][:-1]\n",
      "len(our_list)"
     ],
     "language": "python",
     "metadata": {},
     "outputs": [
      {
       "metadata": {},
       "output_type": "pyout",
       "prompt_number": 5,
       "text": [
        "8276"
       ]
      }
     ],
     "prompt_number": 5
    },
    {
     "cell_type": "code",
     "collapsed": false,
     "input": [
      "# Arrange by counts of a specific descriptor\n",
      "counts = Counter()\n",
      "for description in our_list:\n",
      "    counts.update(word.strip('.,?!\"\\'').lower().replace('\\xe9','e') for word in description.split(','))\n",
      "counts"
     ],
     "language": "python",
     "metadata": {},
     "outputs": [
      {
       "metadata": {},
       "output_type": "pyout",
       "prompt_number": 6,
       "text": [
        "Counter({'american': 912, 'mexican': 813, 'fast food': 589, 'pizza': 451, 'burgers': 411, 'sandwiches': 346, 'italian': 308, 'breakfast': 257, 'chinese': 235, 'sushi': 231, 'cafe': 217, 'bakery': 195, 'ice cream': 183, 'restaurant': 182, 'diner': 172, 'bbq': 169, 'seafood': 158, 'steakhouse': 149, 'thai': 149, 'asian': 143, 'japanese': 128, 'wings': 125, 'vietnamese': 117, 'deli / bodega': 111, 'new american': 89, 'indian': 86, 'desserts': 74, 'mediterranean': 73, 'donuts': 70, 'greek': 62, 'fried chicken': 61, 'korean': 56, 'tacos': 55, 'burritos': 51, 'gastropub': 46, 'bagels': 46, 'french': 46, 'hot dogs': 46, 'frozen yogurt': 44, 'vegetarian / vegan': 42, 'cajun / creole': 42, 'southern / soul': 42, 'ramen / noodles': 42, 'cuban': 37, 'middle eastern': 36, 'salad': 31, 'latin american': 30, 'tapas': 30, 'cupcakes': 26, 'caribbean': 23, 'food truck': 20, 'soup': 18, 'brazilian': 17, 'german': 16, 'irish': 15, 'snacks': 12, 'spanish': 11, 'argentinian': 10, 'food': 8, 'dim sum': 8, 'falafel': 7, 'filipino': 7, 'fondue': 6, 'ethiopian': 6, 'eastern european': 5, 'malaysian': 5, 'peruvian': 5, 'mongolian': 5, 'south american': 5, 'buffet': 5, 'bubble tea': 4, 'moroccan': 3, 'portuguese': 3, 'fish & chips': 3, 'hawaiian': 3, 'winery': 3, 'churrascaria': 2, 'gluten-free': 2, 'dumplings': 2, 'australian': 2, 'african': 2, 'polish': 1, 'comfort food': 1, 'hotpot': 1, 'mac & cheese': 1, 'molecular gastronomy': 1, 'distillery': 1, 'paella': 1, 'bistro': 1, 'pub': 1, 'cambodian': 1, 'pie shop': 1, 'pakistani': 1, 'modern european': 1, 'russian': 1, 'scandinavian': 1, 'cantonese': 1, 'english': 1, 'afghan': 1, 'swiss': 1})"
       ]
      }
     ],
     "prompt_number": 6
    },
    {
     "cell_type": "code",
     "collapsed": false,
     "input": [
      "# Create list of in versus out of cluster\n",
      "cluster_list = []\n",
      "nocluster_list = []\n",
      "for i in range(len(our_list)):\n",
      "    if df['cluster_num'][i] != -1:\n",
      "        for b in our_list[i].split(','):\n",
      "            cluster_list.append(b)\n",
      "    else:\n",
      "        for b in our_list[i].split(','):\n",
      "            nocluster_list.append(b)\n",
      "    \n",
      "super_list = []\n",
      "for i in range(len(our_list)):\n",
      "    for b in our_list[i].split(','):\n",
      "        super_list.append(b)\n",
      "\n"
     ],
     "language": "python",
     "metadata": {},
     "outputs": [],
     "prompt_number": 7
    },
    {
     "cell_type": "code",
     "collapsed": false,
     "input": [],
     "language": "python",
     "metadata": {},
     "outputs": [],
     "prompt_number": 145
    },
    {
     "cell_type": "code",
     "collapsed": false,
     "input": [
      "# Group by cID into a grouped dataframe\n",
      "\n",
      "crossocr = df[['ID','cluster_num','categories','n_reviews','rating']]\n",
      "crossocr['cID'] = df['ID']+df['cluster_num']/100.0\n",
      "grouped = crossocr.sort('cID')\n",
      "\n",
      "# reindex grouped (so it can be sensibly accessed)\n",
      "grouped_idx = grouped.reset_index(drop=True)"
     ],
     "language": "python",
     "metadata": {},
     "outputs": [],
     "prompt_number": 35
    },
    {
     "cell_type": "code",
     "collapsed": false,
     "input": [
      "# Cross occurence super list (allows for multiple descriptors per restaurant)\n",
      "expand_list_cat = []\n",
      "expand_list_cID = []\n",
      "grouped_list = []\n",
      "expand_list_rev = []\n",
      "expand_list_rat = []\n",
      "jj = 0\n",
      "\n",
      "for i in range(len(grouped_idx['cluster_num'])):\n",
      "    if grouped_idx['cluster_num'][i] != -1:\n",
      "        grouped_list.append(grouped_idx['categories'][i][:-1])\n",
      "        for b in grouped_list[jj].split(','):\n",
      "            expand_list_cat.append(b)\n",
      "            expand_list_cID.append(grouped_idx['cID'][i])\n",
      "            expand_list_rev.append(grouped_idx['n_reviews'][i])\n",
      "            expand_list_rat.append(grouped_idx['rating'][i])\n",
      "        jj += 1\n",
      "    else:\n",
      "        pass\n"
     ],
     "language": "python",
     "metadata": {},
     "outputs": [],
     "prompt_number": 36
    },
    {
     "cell_type": "code",
     "collapsed": false,
     "input": [
      "# Make a new dataframe of only clustered data\n",
      "expanded_df = pd.DataFrame()\n",
      "clean_list = [a.strip('.,?!\"\\'').lower().replace('\\xe9','e') for a in expand_list_cat]\n",
      "expanded_df['category'] = clean_list\n",
      "expanded_df['cID'] = expand_list_cID\n",
      "expanded_df['n_reviews'] = expand_list_rev\n",
      "expanded_df['rating'] = expand_list_rat\n",
      "\n"
     ],
     "language": "python",
     "metadata": {},
     "outputs": [],
     "prompt_number": 51
    },
    {
     "cell_type": "code",
     "collapsed": false,
     "input": [
      "# Create a self counter (for clusters only)\n",
      "count_cluster = Counter()\n",
      "for a in expanded_df.iterrows():\n",
      "    count_cluster.update(word.strip('.,?!\"\\'').lower().replace('\\xe9','e') for word in a[1].iloc[0].split(','))"
     ],
     "language": "python",
     "metadata": {},
     "outputs": [],
     "prompt_number": 52
    },
    {
     "cell_type": "code",
     "collapsed": false,
     "input": [
      "def cooccurence(expanded_df):\n",
      "    # Compute Counts matrix\n",
      "    results = expanded_df.groupby('cID').apply(lambda x: x['category'].value_counts()).unstack()\n",
      "    results.fillna(0,inplace=True)\n",
      "    \n",
      "    # Cross Occurence\n",
      "    out = results.T.dot(results)\n",
      "    #(b/c you don't count co-occurrences of an aspect with itself) need to subract off a matrix\n",
      "    for a in count_cluster.keys():\n",
      "        subtract_amt = count_cluster[a]\n",
      "        thiscol = out[a]\n",
      "        row_cnt = 0\n",
      "        for rows in thiscol.index:\n",
      "            row_cnt += 1\n",
      "            if rows == a:\n",
      "                our_row = row_cnt\n",
      "                break\n",
      "        \n",
      "        out[a][our_row-1] = out[a][our_row-1] - subtract_amt\n",
      "    \n",
      "    # out now has the co-occurence matrix\n",
      "    return out"
     ],
     "language": "python",
     "metadata": {},
     "outputs": [],
     "prompt_number": 74
    },
    {
     "cell_type": "code",
     "collapsed": false,
     "input": [
      "true_coc = cooccurence(expanded_df)\n",
      "rand_cats = expanded_df.category\n",
      "target_cID = expanded_df.cID\n",
      "random_coc = []\n",
      "n_shuffle = 500\n",
      "for itercounts in range(n_shuffle):\n",
      "    print itercounts\n",
      "    temp_cats = np.array(rand_cats)\n",
      "    np.random.shuffle(temp_cats)\n",
      "    temp_df = pd.DataFrame()\n",
      "    temp_df['category'] = temp_cats\n",
      "    temp_df['cID'] = target_cID\n",
      "    random_coc.append(cooccurence(temp_df))\n",
      "    "
     ],
     "language": "python",
     "metadata": {},
     "outputs": [
      {
       "output_type": "stream",
       "stream": "stdout",
       "text": [
        "0\n",
        "1"
       ]
      },
      {
       "output_type": "stream",
       "stream": "stdout",
       "text": [
        "\n",
        "2"
       ]
      },
      {
       "output_type": "stream",
       "stream": "stdout",
       "text": [
        "\n",
        "3"
       ]
      },
      {
       "output_type": "stream",
       "stream": "stdout",
       "text": [
        "\n",
        "4"
       ]
      },
      {
       "output_type": "stream",
       "stream": "stdout",
       "text": [
        "\n",
        "5"
       ]
      },
      {
       "output_type": "stream",
       "stream": "stdout",
       "text": [
        "\n",
        "6"
       ]
      },
      {
       "output_type": "stream",
       "stream": "stdout",
       "text": [
        "\n",
        "7"
       ]
      },
      {
       "output_type": "stream",
       "stream": "stdout",
       "text": [
        "\n",
        "8"
       ]
      },
      {
       "output_type": "stream",
       "stream": "stdout",
       "text": [
        "\n",
        "9"
       ]
      },
      {
       "output_type": "stream",
       "stream": "stdout",
       "text": [
        "\n",
        "10"
       ]
      },
      {
       "output_type": "stream",
       "stream": "stdout",
       "text": [
        "\n",
        "11"
       ]
      },
      {
       "output_type": "stream",
       "stream": "stdout",
       "text": [
        "\n",
        "12"
       ]
      },
      {
       "output_type": "stream",
       "stream": "stdout",
       "text": [
        "\n",
        "13"
       ]
      },
      {
       "output_type": "stream",
       "stream": "stdout",
       "text": [
        "\n",
        "14"
       ]
      },
      {
       "output_type": "stream",
       "stream": "stdout",
       "text": [
        "\n",
        "15"
       ]
      },
      {
       "output_type": "stream",
       "stream": "stdout",
       "text": [
        "\n",
        "16"
       ]
      },
      {
       "output_type": "stream",
       "stream": "stdout",
       "text": [
        "\n",
        "17"
       ]
      },
      {
       "output_type": "stream",
       "stream": "stdout",
       "text": [
        "\n",
        "18"
       ]
      },
      {
       "output_type": "stream",
       "stream": "stdout",
       "text": [
        "\n",
        "19"
       ]
      },
      {
       "output_type": "stream",
       "stream": "stdout",
       "text": [
        "\n",
        "20"
       ]
      },
      {
       "output_type": "stream",
       "stream": "stdout",
       "text": [
        "\n",
        "21"
       ]
      },
      {
       "output_type": "stream",
       "stream": "stdout",
       "text": [
        "\n",
        "22"
       ]
      },
      {
       "output_type": "stream",
       "stream": "stdout",
       "text": [
        "\n",
        "23"
       ]
      },
      {
       "output_type": "stream",
       "stream": "stdout",
       "text": [
        "\n",
        "24"
       ]
      },
      {
       "output_type": "stream",
       "stream": "stdout",
       "text": [
        "\n",
        "25"
       ]
      },
      {
       "output_type": "stream",
       "stream": "stdout",
       "text": [
        "\n",
        "26"
       ]
      },
      {
       "output_type": "stream",
       "stream": "stdout",
       "text": [
        "\n",
        "27"
       ]
      },
      {
       "output_type": "stream",
       "stream": "stdout",
       "text": [
        "\n",
        "28"
       ]
      },
      {
       "output_type": "stream",
       "stream": "stdout",
       "text": [
        "\n",
        "29"
       ]
      },
      {
       "output_type": "stream",
       "stream": "stdout",
       "text": [
        "\n",
        "30"
       ]
      },
      {
       "output_type": "stream",
       "stream": "stdout",
       "text": [
        "\n",
        "31"
       ]
      },
      {
       "output_type": "stream",
       "stream": "stdout",
       "text": [
        "\n",
        "32"
       ]
      },
      {
       "output_type": "stream",
       "stream": "stdout",
       "text": [
        "\n",
        "33"
       ]
      },
      {
       "output_type": "stream",
       "stream": "stdout",
       "text": [
        "\n",
        "34"
       ]
      },
      {
       "output_type": "stream",
       "stream": "stdout",
       "text": [
        "\n",
        "35"
       ]
      },
      {
       "output_type": "stream",
       "stream": "stdout",
       "text": [
        "\n",
        "36"
       ]
      },
      {
       "output_type": "stream",
       "stream": "stdout",
       "text": [
        "\n",
        "37"
       ]
      },
      {
       "output_type": "stream",
       "stream": "stdout",
       "text": [
        "\n",
        "38"
       ]
      },
      {
       "output_type": "stream",
       "stream": "stdout",
       "text": [
        "\n",
        "39"
       ]
      },
      {
       "output_type": "stream",
       "stream": "stdout",
       "text": [
        "\n",
        "40"
       ]
      },
      {
       "output_type": "stream",
       "stream": "stdout",
       "text": [
        "\n",
        "41"
       ]
      },
      {
       "output_type": "stream",
       "stream": "stdout",
       "text": [
        "\n",
        "42"
       ]
      },
      {
       "output_type": "stream",
       "stream": "stdout",
       "text": [
        "\n",
        "43"
       ]
      },
      {
       "output_type": "stream",
       "stream": "stdout",
       "text": [
        "\n",
        "44"
       ]
      },
      {
       "output_type": "stream",
       "stream": "stdout",
       "text": [
        "\n",
        "45"
       ]
      },
      {
       "output_type": "stream",
       "stream": "stdout",
       "text": [
        "\n",
        "46"
       ]
      },
      {
       "output_type": "stream",
       "stream": "stdout",
       "text": [
        "\n",
        "47"
       ]
      },
      {
       "output_type": "stream",
       "stream": "stdout",
       "text": [
        "\n",
        "48"
       ]
      },
      {
       "output_type": "stream",
       "stream": "stdout",
       "text": [
        "\n",
        "49"
       ]
      },
      {
       "output_type": "stream",
       "stream": "stdout",
       "text": [
        "\n",
        "50"
       ]
      },
      {
       "output_type": "stream",
       "stream": "stdout",
       "text": [
        "\n",
        "51"
       ]
      },
      {
       "output_type": "stream",
       "stream": "stdout",
       "text": [
        "\n",
        "52"
       ]
      },
      {
       "output_type": "stream",
       "stream": "stdout",
       "text": [
        "\n",
        "53"
       ]
      },
      {
       "output_type": "stream",
       "stream": "stdout",
       "text": [
        "\n",
        "54"
       ]
      },
      {
       "output_type": "stream",
       "stream": "stdout",
       "text": [
        "\n",
        "55"
       ]
      },
      {
       "output_type": "stream",
       "stream": "stdout",
       "text": [
        "\n",
        "56"
       ]
      },
      {
       "output_type": "stream",
       "stream": "stdout",
       "text": [
        "\n",
        "57"
       ]
      },
      {
       "output_type": "stream",
       "stream": "stdout",
       "text": [
        "\n",
        "58"
       ]
      },
      {
       "output_type": "stream",
       "stream": "stdout",
       "text": [
        "\n",
        "59"
       ]
      },
      {
       "output_type": "stream",
       "stream": "stdout",
       "text": [
        "\n",
        "60"
       ]
      },
      {
       "output_type": "stream",
       "stream": "stdout",
       "text": [
        "\n",
        "61"
       ]
      },
      {
       "output_type": "stream",
       "stream": "stdout",
       "text": [
        "\n",
        "62"
       ]
      },
      {
       "output_type": "stream",
       "stream": "stdout",
       "text": [
        "\n",
        "63"
       ]
      },
      {
       "output_type": "stream",
       "stream": "stdout",
       "text": [
        "\n",
        "64"
       ]
      },
      {
       "output_type": "stream",
       "stream": "stdout",
       "text": [
        "\n",
        "65"
       ]
      },
      {
       "output_type": "stream",
       "stream": "stdout",
       "text": [
        "\n",
        "66"
       ]
      },
      {
       "output_type": "stream",
       "stream": "stdout",
       "text": [
        "\n",
        "67"
       ]
      },
      {
       "output_type": "stream",
       "stream": "stdout",
       "text": [
        "\n",
        "68"
       ]
      },
      {
       "output_type": "stream",
       "stream": "stdout",
       "text": [
        "\n",
        "69"
       ]
      },
      {
       "output_type": "stream",
       "stream": "stdout",
       "text": [
        "\n",
        "70"
       ]
      },
      {
       "output_type": "stream",
       "stream": "stdout",
       "text": [
        "\n",
        "71"
       ]
      },
      {
       "output_type": "stream",
       "stream": "stdout",
       "text": [
        "\n",
        "72"
       ]
      },
      {
       "output_type": "stream",
       "stream": "stdout",
       "text": [
        "\n",
        "73"
       ]
      },
      {
       "output_type": "stream",
       "stream": "stdout",
       "text": [
        "\n",
        "74"
       ]
      },
      {
       "output_type": "stream",
       "stream": "stdout",
       "text": [
        "\n",
        "75"
       ]
      },
      {
       "output_type": "stream",
       "stream": "stdout",
       "text": [
        "\n",
        "76"
       ]
      },
      {
       "output_type": "stream",
       "stream": "stdout",
       "text": [
        "\n",
        "77"
       ]
      },
      {
       "output_type": "stream",
       "stream": "stdout",
       "text": [
        "\n",
        "78"
       ]
      },
      {
       "output_type": "stream",
       "stream": "stdout",
       "text": [
        "\n",
        "79"
       ]
      },
      {
       "output_type": "stream",
       "stream": "stdout",
       "text": [
        "\n",
        "80"
       ]
      },
      {
       "output_type": "stream",
       "stream": "stdout",
       "text": [
        "\n",
        "81"
       ]
      },
      {
       "output_type": "stream",
       "stream": "stdout",
       "text": [
        "\n",
        "82"
       ]
      },
      {
       "output_type": "stream",
       "stream": "stdout",
       "text": [
        "\n",
        "83"
       ]
      },
      {
       "output_type": "stream",
       "stream": "stdout",
       "text": [
        "\n",
        "84"
       ]
      },
      {
       "output_type": "stream",
       "stream": "stdout",
       "text": [
        "\n",
        "85"
       ]
      },
      {
       "output_type": "stream",
       "stream": "stdout",
       "text": [
        "\n",
        "86"
       ]
      },
      {
       "output_type": "stream",
       "stream": "stdout",
       "text": [
        "\n",
        "87"
       ]
      },
      {
       "output_type": "stream",
       "stream": "stdout",
       "text": [
        "\n",
        "88"
       ]
      },
      {
       "output_type": "stream",
       "stream": "stdout",
       "text": [
        "\n",
        "89"
       ]
      },
      {
       "output_type": "stream",
       "stream": "stdout",
       "text": [
        "\n",
        "90"
       ]
      },
      {
       "output_type": "stream",
       "stream": "stdout",
       "text": [
        "\n",
        "91"
       ]
      },
      {
       "output_type": "stream",
       "stream": "stdout",
       "text": [
        "\n",
        "92"
       ]
      },
      {
       "output_type": "stream",
       "stream": "stdout",
       "text": [
        "\n",
        "93"
       ]
      },
      {
       "output_type": "stream",
       "stream": "stdout",
       "text": [
        "\n",
        "94"
       ]
      },
      {
       "output_type": "stream",
       "stream": "stdout",
       "text": [
        "\n",
        "95"
       ]
      },
      {
       "output_type": "stream",
       "stream": "stdout",
       "text": [
        "\n",
        "96"
       ]
      },
      {
       "output_type": "stream",
       "stream": "stdout",
       "text": [
        "\n",
        "97"
       ]
      },
      {
       "output_type": "stream",
       "stream": "stdout",
       "text": [
        "\n",
        "98"
       ]
      },
      {
       "output_type": "stream",
       "stream": "stdout",
       "text": [
        "\n",
        "99"
       ]
      },
      {
       "output_type": "stream",
       "stream": "stdout",
       "text": [
        "\n",
        "100"
       ]
      },
      {
       "output_type": "stream",
       "stream": "stdout",
       "text": [
        "\n",
        "101"
       ]
      },
      {
       "output_type": "stream",
       "stream": "stdout",
       "text": [
        "\n",
        "102"
       ]
      },
      {
       "output_type": "stream",
       "stream": "stdout",
       "text": [
        "\n",
        "103"
       ]
      },
      {
       "output_type": "stream",
       "stream": "stdout",
       "text": [
        "\n",
        "104"
       ]
      },
      {
       "output_type": "stream",
       "stream": "stdout",
       "text": [
        "\n",
        "105"
       ]
      },
      {
       "output_type": "stream",
       "stream": "stdout",
       "text": [
        "\n",
        "106"
       ]
      },
      {
       "output_type": "stream",
       "stream": "stdout",
       "text": [
        "\n",
        "107"
       ]
      },
      {
       "output_type": "stream",
       "stream": "stdout",
       "text": [
        "\n",
        "108"
       ]
      },
      {
       "output_type": "stream",
       "stream": "stdout",
       "text": [
        "\n",
        "109"
       ]
      },
      {
       "output_type": "stream",
       "stream": "stdout",
       "text": [
        "\n",
        "110"
       ]
      },
      {
       "output_type": "stream",
       "stream": "stdout",
       "text": [
        "\n",
        "111"
       ]
      },
      {
       "output_type": "stream",
       "stream": "stdout",
       "text": [
        "\n",
        "112"
       ]
      },
      {
       "output_type": "stream",
       "stream": "stdout",
       "text": [
        "\n",
        "113"
       ]
      },
      {
       "output_type": "stream",
       "stream": "stdout",
       "text": [
        "\n",
        "114"
       ]
      },
      {
       "output_type": "stream",
       "stream": "stdout",
       "text": [
        "\n",
        "115"
       ]
      },
      {
       "output_type": "stream",
       "stream": "stdout",
       "text": [
        "\n",
        "116"
       ]
      },
      {
       "output_type": "stream",
       "stream": "stdout",
       "text": [
        "\n",
        "117"
       ]
      },
      {
       "output_type": "stream",
       "stream": "stdout",
       "text": [
        "\n",
        "118"
       ]
      },
      {
       "output_type": "stream",
       "stream": "stdout",
       "text": [
        "\n",
        "119"
       ]
      },
      {
       "output_type": "stream",
       "stream": "stdout",
       "text": [
        "\n",
        "120"
       ]
      },
      {
       "output_type": "stream",
       "stream": "stdout",
       "text": [
        "\n",
        "121"
       ]
      },
      {
       "output_type": "stream",
       "stream": "stdout",
       "text": [
        "\n",
        "122"
       ]
      },
      {
       "output_type": "stream",
       "stream": "stdout",
       "text": [
        "\n",
        "123"
       ]
      },
      {
       "output_type": "stream",
       "stream": "stdout",
       "text": [
        "\n",
        "124"
       ]
      },
      {
       "output_type": "stream",
       "stream": "stdout",
       "text": [
        "\n",
        "125"
       ]
      },
      {
       "output_type": "stream",
       "stream": "stdout",
       "text": [
        "\n",
        "126"
       ]
      },
      {
       "output_type": "stream",
       "stream": "stdout",
       "text": [
        "\n",
        "127"
       ]
      },
      {
       "output_type": "stream",
       "stream": "stdout",
       "text": [
        "\n",
        "128"
       ]
      },
      {
       "output_type": "stream",
       "stream": "stdout",
       "text": [
        "\n",
        "129"
       ]
      },
      {
       "output_type": "stream",
       "stream": "stdout",
       "text": [
        "\n",
        "130"
       ]
      },
      {
       "output_type": "stream",
       "stream": "stdout",
       "text": [
        "\n",
        "131"
       ]
      },
      {
       "output_type": "stream",
       "stream": "stdout",
       "text": [
        "\n",
        "132"
       ]
      },
      {
       "output_type": "stream",
       "stream": "stdout",
       "text": [
        "\n",
        "133"
       ]
      },
      {
       "output_type": "stream",
       "stream": "stdout",
       "text": [
        "\n",
        "134"
       ]
      },
      {
       "output_type": "stream",
       "stream": "stdout",
       "text": [
        "\n",
        "135"
       ]
      },
      {
       "output_type": "stream",
       "stream": "stdout",
       "text": [
        "\n",
        "136"
       ]
      },
      {
       "output_type": "stream",
       "stream": "stdout",
       "text": [
        "\n",
        "137"
       ]
      },
      {
       "output_type": "stream",
       "stream": "stdout",
       "text": [
        "\n",
        "138"
       ]
      },
      {
       "output_type": "stream",
       "stream": "stdout",
       "text": [
        "\n",
        "139"
       ]
      },
      {
       "output_type": "stream",
       "stream": "stdout",
       "text": [
        "\n",
        "140"
       ]
      },
      {
       "output_type": "stream",
       "stream": "stdout",
       "text": [
        "\n",
        "141"
       ]
      },
      {
       "output_type": "stream",
       "stream": "stdout",
       "text": [
        "\n",
        "142"
       ]
      },
      {
       "output_type": "stream",
       "stream": "stdout",
       "text": [
        "\n",
        "143"
       ]
      },
      {
       "output_type": "stream",
       "stream": "stdout",
       "text": [
        "\n",
        "144"
       ]
      },
      {
       "output_type": "stream",
       "stream": "stdout",
       "text": [
        "\n",
        "145"
       ]
      },
      {
       "output_type": "stream",
       "stream": "stdout",
       "text": [
        "\n",
        "146"
       ]
      },
      {
       "output_type": "stream",
       "stream": "stdout",
       "text": [
        "\n",
        "147"
       ]
      },
      {
       "output_type": "stream",
       "stream": "stdout",
       "text": [
        "\n",
        "148"
       ]
      },
      {
       "output_type": "stream",
       "stream": "stdout",
       "text": [
        "\n",
        "149"
       ]
      },
      {
       "output_type": "stream",
       "stream": "stdout",
       "text": [
        "\n",
        "150"
       ]
      },
      {
       "output_type": "stream",
       "stream": "stdout",
       "text": [
        "\n",
        "151"
       ]
      },
      {
       "output_type": "stream",
       "stream": "stdout",
       "text": [
        "\n",
        "152"
       ]
      },
      {
       "output_type": "stream",
       "stream": "stdout",
       "text": [
        "\n",
        "153"
       ]
      },
      {
       "output_type": "stream",
       "stream": "stdout",
       "text": [
        "\n",
        "154"
       ]
      },
      {
       "output_type": "stream",
       "stream": "stdout",
       "text": [
        "\n",
        "155"
       ]
      },
      {
       "output_type": "stream",
       "stream": "stdout",
       "text": [
        "\n",
        "156"
       ]
      },
      {
       "output_type": "stream",
       "stream": "stdout",
       "text": [
        "\n",
        "157"
       ]
      },
      {
       "output_type": "stream",
       "stream": "stdout",
       "text": [
        "\n",
        "158"
       ]
      },
      {
       "output_type": "stream",
       "stream": "stdout",
       "text": [
        "\n",
        "159"
       ]
      },
      {
       "output_type": "stream",
       "stream": "stdout",
       "text": [
        "\n",
        "160"
       ]
      },
      {
       "output_type": "stream",
       "stream": "stdout",
       "text": [
        "\n",
        "161"
       ]
      },
      {
       "output_type": "stream",
       "stream": "stdout",
       "text": [
        "\n",
        "162"
       ]
      },
      {
       "output_type": "stream",
       "stream": "stdout",
       "text": [
        "\n",
        "163"
       ]
      },
      {
       "output_type": "stream",
       "stream": "stdout",
       "text": [
        "\n",
        "164"
       ]
      },
      {
       "output_type": "stream",
       "stream": "stdout",
       "text": [
        "\n",
        "165"
       ]
      },
      {
       "output_type": "stream",
       "stream": "stdout",
       "text": [
        "\n",
        "166"
       ]
      },
      {
       "output_type": "stream",
       "stream": "stdout",
       "text": [
        "\n",
        "167"
       ]
      },
      {
       "output_type": "stream",
       "stream": "stdout",
       "text": [
        "\n",
        "168"
       ]
      },
      {
       "output_type": "stream",
       "stream": "stdout",
       "text": [
        "\n",
        "169"
       ]
      },
      {
       "output_type": "stream",
       "stream": "stdout",
       "text": [
        "\n",
        "170"
       ]
      },
      {
       "output_type": "stream",
       "stream": "stdout",
       "text": [
        "\n",
        "171"
       ]
      },
      {
       "output_type": "stream",
       "stream": "stdout",
       "text": [
        "\n",
        "172"
       ]
      },
      {
       "output_type": "stream",
       "stream": "stdout",
       "text": [
        "\n",
        "173"
       ]
      },
      {
       "output_type": "stream",
       "stream": "stdout",
       "text": [
        "\n",
        "174"
       ]
      },
      {
       "output_type": "stream",
       "stream": "stdout",
       "text": [
        "\n",
        "175"
       ]
      },
      {
       "output_type": "stream",
       "stream": "stdout",
       "text": [
        "\n",
        "176"
       ]
      },
      {
       "output_type": "stream",
       "stream": "stdout",
       "text": [
        "\n",
        "177"
       ]
      },
      {
       "output_type": "stream",
       "stream": "stdout",
       "text": [
        "\n",
        "178"
       ]
      },
      {
       "output_type": "stream",
       "stream": "stdout",
       "text": [
        "\n",
        "179"
       ]
      },
      {
       "output_type": "stream",
       "stream": "stdout",
       "text": [
        "\n",
        "180"
       ]
      },
      {
       "output_type": "stream",
       "stream": "stdout",
       "text": [
        "\n",
        "181"
       ]
      },
      {
       "output_type": "stream",
       "stream": "stdout",
       "text": [
        "\n",
        "182"
       ]
      },
      {
       "output_type": "stream",
       "stream": "stdout",
       "text": [
        "\n",
        "183"
       ]
      },
      {
       "output_type": "stream",
       "stream": "stdout",
       "text": [
        "\n",
        "184"
       ]
      },
      {
       "output_type": "stream",
       "stream": "stdout",
       "text": [
        "\n",
        "185"
       ]
      },
      {
       "output_type": "stream",
       "stream": "stdout",
       "text": [
        "\n",
        "186"
       ]
      },
      {
       "output_type": "stream",
       "stream": "stdout",
       "text": [
        "\n",
        "187"
       ]
      },
      {
       "output_type": "stream",
       "stream": "stdout",
       "text": [
        "\n",
        "188"
       ]
      },
      {
       "output_type": "stream",
       "stream": "stdout",
       "text": [
        "\n",
        "189"
       ]
      },
      {
       "output_type": "stream",
       "stream": "stdout",
       "text": [
        "\n",
        "190"
       ]
      },
      {
       "output_type": "stream",
       "stream": "stdout",
       "text": [
        "\n",
        "191"
       ]
      },
      {
       "output_type": "stream",
       "stream": "stdout",
       "text": [
        "\n",
        "192"
       ]
      },
      {
       "output_type": "stream",
       "stream": "stdout",
       "text": [
        "\n",
        "193"
       ]
      },
      {
       "output_type": "stream",
       "stream": "stdout",
       "text": [
        "\n",
        "194"
       ]
      },
      {
       "output_type": "stream",
       "stream": "stdout",
       "text": [
        "\n",
        "195"
       ]
      },
      {
       "output_type": "stream",
       "stream": "stdout",
       "text": [
        "\n",
        "196"
       ]
      },
      {
       "output_type": "stream",
       "stream": "stdout",
       "text": [
        "\n",
        "197"
       ]
      },
      {
       "output_type": "stream",
       "stream": "stdout",
       "text": [
        "\n",
        "198"
       ]
      },
      {
       "output_type": "stream",
       "stream": "stdout",
       "text": [
        "\n",
        "199"
       ]
      },
      {
       "output_type": "stream",
       "stream": "stdout",
       "text": [
        "\n",
        "200"
       ]
      },
      {
       "output_type": "stream",
       "stream": "stdout",
       "text": [
        "\n",
        "201"
       ]
      },
      {
       "output_type": "stream",
       "stream": "stdout",
       "text": [
        "\n",
        "202"
       ]
      },
      {
       "output_type": "stream",
       "stream": "stdout",
       "text": [
        "\n",
        "203"
       ]
      },
      {
       "output_type": "stream",
       "stream": "stdout",
       "text": [
        "\n",
        "204"
       ]
      },
      {
       "output_type": "stream",
       "stream": "stdout",
       "text": [
        "\n",
        "205"
       ]
      },
      {
       "output_type": "stream",
       "stream": "stdout",
       "text": [
        "\n",
        "206"
       ]
      },
      {
       "output_type": "stream",
       "stream": "stdout",
       "text": [
        "\n",
        "207"
       ]
      },
      {
       "output_type": "stream",
       "stream": "stdout",
       "text": [
        "\n",
        "208"
       ]
      },
      {
       "output_type": "stream",
       "stream": "stdout",
       "text": [
        "\n",
        "209"
       ]
      },
      {
       "output_type": "stream",
       "stream": "stdout",
       "text": [
        "\n",
        "210"
       ]
      },
      {
       "output_type": "stream",
       "stream": "stdout",
       "text": [
        "\n",
        "211"
       ]
      },
      {
       "output_type": "stream",
       "stream": "stdout",
       "text": [
        "\n",
        "212"
       ]
      },
      {
       "output_type": "stream",
       "stream": "stdout",
       "text": [
        "\n",
        "213"
       ]
      },
      {
       "output_type": "stream",
       "stream": "stdout",
       "text": [
        "\n",
        "214"
       ]
      },
      {
       "output_type": "stream",
       "stream": "stdout",
       "text": [
        "\n",
        "215"
       ]
      },
      {
       "output_type": "stream",
       "stream": "stdout",
       "text": [
        "\n",
        "216"
       ]
      },
      {
       "output_type": "stream",
       "stream": "stdout",
       "text": [
        "\n",
        "217"
       ]
      },
      {
       "output_type": "stream",
       "stream": "stdout",
       "text": [
        "\n",
        "218"
       ]
      },
      {
       "output_type": "stream",
       "stream": "stdout",
       "text": [
        "\n",
        "219"
       ]
      },
      {
       "output_type": "stream",
       "stream": "stdout",
       "text": [
        "\n",
        "220"
       ]
      },
      {
       "output_type": "stream",
       "stream": "stdout",
       "text": [
        "\n",
        "221"
       ]
      },
      {
       "output_type": "stream",
       "stream": "stdout",
       "text": [
        "\n",
        "222"
       ]
      },
      {
       "output_type": "stream",
       "stream": "stdout",
       "text": [
        "\n",
        "223"
       ]
      },
      {
       "output_type": "stream",
       "stream": "stdout",
       "text": [
        "\n",
        "224"
       ]
      },
      {
       "output_type": "stream",
       "stream": "stdout",
       "text": [
        "\n",
        "225"
       ]
      },
      {
       "output_type": "stream",
       "stream": "stdout",
       "text": [
        "\n",
        "226"
       ]
      },
      {
       "output_type": "stream",
       "stream": "stdout",
       "text": [
        "\n",
        "227"
       ]
      },
      {
       "output_type": "stream",
       "stream": "stdout",
       "text": [
        "\n",
        "228"
       ]
      },
      {
       "output_type": "stream",
       "stream": "stdout",
       "text": [
        "\n",
        "229"
       ]
      },
      {
       "output_type": "stream",
       "stream": "stdout",
       "text": [
        "\n",
        "230"
       ]
      },
      {
       "output_type": "stream",
       "stream": "stdout",
       "text": [
        "\n",
        "231"
       ]
      },
      {
       "output_type": "stream",
       "stream": "stdout",
       "text": [
        "\n",
        "232"
       ]
      },
      {
       "output_type": "stream",
       "stream": "stdout",
       "text": [
        "\n",
        "233"
       ]
      },
      {
       "output_type": "stream",
       "stream": "stdout",
       "text": [
        "\n",
        "234"
       ]
      },
      {
       "output_type": "stream",
       "stream": "stdout",
       "text": [
        "\n",
        "235"
       ]
      },
      {
       "output_type": "stream",
       "stream": "stdout",
       "text": [
        "\n",
        "236"
       ]
      },
      {
       "output_type": "stream",
       "stream": "stdout",
       "text": [
        "\n",
        "237"
       ]
      },
      {
       "output_type": "stream",
       "stream": "stdout",
       "text": [
        "\n",
        "238"
       ]
      },
      {
       "output_type": "stream",
       "stream": "stdout",
       "text": [
        "\n",
        "239"
       ]
      },
      {
       "output_type": "stream",
       "stream": "stdout",
       "text": [
        "\n",
        "240"
       ]
      },
      {
       "output_type": "stream",
       "stream": "stdout",
       "text": [
        "\n",
        "241"
       ]
      },
      {
       "output_type": "stream",
       "stream": "stdout",
       "text": [
        "\n",
        "242"
       ]
      },
      {
       "output_type": "stream",
       "stream": "stdout",
       "text": [
        "\n",
        "243"
       ]
      },
      {
       "output_type": "stream",
       "stream": "stdout",
       "text": [
        "\n",
        "244"
       ]
      },
      {
       "output_type": "stream",
       "stream": "stdout",
       "text": [
        "\n",
        "245"
       ]
      },
      {
       "output_type": "stream",
       "stream": "stdout",
       "text": [
        "\n",
        "246"
       ]
      },
      {
       "output_type": "stream",
       "stream": "stdout",
       "text": [
        "\n",
        "247"
       ]
      },
      {
       "output_type": "stream",
       "stream": "stdout",
       "text": [
        "\n",
        "248"
       ]
      },
      {
       "output_type": "stream",
       "stream": "stdout",
       "text": [
        "\n",
        "249"
       ]
      },
      {
       "output_type": "stream",
       "stream": "stdout",
       "text": [
        "\n",
        "250"
       ]
      },
      {
       "output_type": "stream",
       "stream": "stdout",
       "text": [
        "\n",
        "251"
       ]
      },
      {
       "output_type": "stream",
       "stream": "stdout",
       "text": [
        "\n",
        "252"
       ]
      },
      {
       "output_type": "stream",
       "stream": "stdout",
       "text": [
        "\n",
        "253"
       ]
      },
      {
       "output_type": "stream",
       "stream": "stdout",
       "text": [
        "\n",
        "254"
       ]
      },
      {
       "output_type": "stream",
       "stream": "stdout",
       "text": [
        "\n",
        "255"
       ]
      },
      {
       "output_type": "stream",
       "stream": "stdout",
       "text": [
        "\n",
        "256"
       ]
      },
      {
       "output_type": "stream",
       "stream": "stdout",
       "text": [
        "\n",
        "257"
       ]
      },
      {
       "output_type": "stream",
       "stream": "stdout",
       "text": [
        "\n",
        "258"
       ]
      },
      {
       "output_type": "stream",
       "stream": "stdout",
       "text": [
        "\n",
        "259"
       ]
      },
      {
       "output_type": "stream",
       "stream": "stdout",
       "text": [
        "\n",
        "260"
       ]
      },
      {
       "output_type": "stream",
       "stream": "stdout",
       "text": [
        "\n",
        "261"
       ]
      },
      {
       "output_type": "stream",
       "stream": "stdout",
       "text": [
        "\n",
        "262"
       ]
      },
      {
       "output_type": "stream",
       "stream": "stdout",
       "text": [
        "\n",
        "263"
       ]
      },
      {
       "output_type": "stream",
       "stream": "stdout",
       "text": [
        "\n",
        "264"
       ]
      },
      {
       "output_type": "stream",
       "stream": "stdout",
       "text": [
        "\n",
        "265"
       ]
      },
      {
       "output_type": "stream",
       "stream": "stdout",
       "text": [
        "\n",
        "266"
       ]
      },
      {
       "output_type": "stream",
       "stream": "stdout",
       "text": [
        "\n",
        "267"
       ]
      },
      {
       "output_type": "stream",
       "stream": "stdout",
       "text": [
        "\n",
        "268"
       ]
      },
      {
       "output_type": "stream",
       "stream": "stdout",
       "text": [
        "\n",
        "269"
       ]
      },
      {
       "output_type": "stream",
       "stream": "stdout",
       "text": [
        "\n",
        "270"
       ]
      },
      {
       "output_type": "stream",
       "stream": "stdout",
       "text": [
        "\n",
        "271"
       ]
      },
      {
       "output_type": "stream",
       "stream": "stdout",
       "text": [
        "\n",
        "272"
       ]
      },
      {
       "output_type": "stream",
       "stream": "stdout",
       "text": [
        "\n",
        "273"
       ]
      },
      {
       "output_type": "stream",
       "stream": "stdout",
       "text": [
        "\n",
        "274"
       ]
      },
      {
       "output_type": "stream",
       "stream": "stdout",
       "text": [
        "\n",
        "275"
       ]
      },
      {
       "output_type": "stream",
       "stream": "stdout",
       "text": [
        "\n",
        "276"
       ]
      },
      {
       "output_type": "stream",
       "stream": "stdout",
       "text": [
        "\n",
        "277"
       ]
      },
      {
       "output_type": "stream",
       "stream": "stdout",
       "text": [
        "\n",
        "278"
       ]
      },
      {
       "output_type": "stream",
       "stream": "stdout",
       "text": [
        "\n",
        "279"
       ]
      },
      {
       "output_type": "stream",
       "stream": "stdout",
       "text": [
        "\n",
        "280"
       ]
      },
      {
       "output_type": "stream",
       "stream": "stdout",
       "text": [
        "\n",
        "281"
       ]
      },
      {
       "output_type": "stream",
       "stream": "stdout",
       "text": [
        "\n",
        "282"
       ]
      },
      {
       "output_type": "stream",
       "stream": "stdout",
       "text": [
        "\n",
        "283"
       ]
      },
      {
       "output_type": "stream",
       "stream": "stdout",
       "text": [
        "\n",
        "284"
       ]
      },
      {
       "output_type": "stream",
       "stream": "stdout",
       "text": [
        "\n",
        "285"
       ]
      },
      {
       "output_type": "stream",
       "stream": "stdout",
       "text": [
        "\n",
        "286"
       ]
      },
      {
       "output_type": "stream",
       "stream": "stdout",
       "text": [
        "\n",
        "287"
       ]
      },
      {
       "output_type": "stream",
       "stream": "stdout",
       "text": [
        "\n",
        "288"
       ]
      },
      {
       "output_type": "stream",
       "stream": "stdout",
       "text": [
        "\n",
        "289"
       ]
      },
      {
       "output_type": "stream",
       "stream": "stdout",
       "text": [
        "\n",
        "290"
       ]
      },
      {
       "output_type": "stream",
       "stream": "stdout",
       "text": [
        "\n",
        "291"
       ]
      },
      {
       "output_type": "stream",
       "stream": "stdout",
       "text": [
        "\n",
        "292"
       ]
      },
      {
       "output_type": "stream",
       "stream": "stdout",
       "text": [
        "\n",
        "293"
       ]
      },
      {
       "output_type": "stream",
       "stream": "stdout",
       "text": [
        "\n",
        "294"
       ]
      },
      {
       "output_type": "stream",
       "stream": "stdout",
       "text": [
        "\n",
        "295"
       ]
      },
      {
       "output_type": "stream",
       "stream": "stdout",
       "text": [
        "\n",
        "296"
       ]
      },
      {
       "output_type": "stream",
       "stream": "stdout",
       "text": [
        "\n",
        "297"
       ]
      },
      {
       "output_type": "stream",
       "stream": "stdout",
       "text": [
        "\n",
        "298"
       ]
      },
      {
       "output_type": "stream",
       "stream": "stdout",
       "text": [
        "\n",
        "299"
       ]
      },
      {
       "output_type": "stream",
       "stream": "stdout",
       "text": [
        "\n",
        "300"
       ]
      },
      {
       "output_type": "stream",
       "stream": "stdout",
       "text": [
        "\n",
        "301"
       ]
      },
      {
       "output_type": "stream",
       "stream": "stdout",
       "text": [
        "\n",
        "302"
       ]
      },
      {
       "output_type": "stream",
       "stream": "stdout",
       "text": [
        "\n",
        "303"
       ]
      },
      {
       "output_type": "stream",
       "stream": "stdout",
       "text": [
        "\n",
        "304"
       ]
      },
      {
       "output_type": "stream",
       "stream": "stdout",
       "text": [
        "\n",
        "305"
       ]
      },
      {
       "output_type": "stream",
       "stream": "stdout",
       "text": [
        "\n",
        "306"
       ]
      },
      {
       "output_type": "stream",
       "stream": "stdout",
       "text": [
        "\n",
        "307"
       ]
      },
      {
       "output_type": "stream",
       "stream": "stdout",
       "text": [
        "\n",
        "308"
       ]
      },
      {
       "output_type": "stream",
       "stream": "stdout",
       "text": [
        "\n",
        "309"
       ]
      },
      {
       "output_type": "stream",
       "stream": "stdout",
       "text": [
        "\n",
        "310"
       ]
      },
      {
       "output_type": "stream",
       "stream": "stdout",
       "text": [
        "\n",
        "311"
       ]
      },
      {
       "output_type": "stream",
       "stream": "stdout",
       "text": [
        "\n",
        "312"
       ]
      },
      {
       "output_type": "stream",
       "stream": "stdout",
       "text": [
        "\n",
        "313"
       ]
      },
      {
       "output_type": "stream",
       "stream": "stdout",
       "text": [
        "\n",
        "314"
       ]
      },
      {
       "output_type": "stream",
       "stream": "stdout",
       "text": [
        "\n",
        "315"
       ]
      },
      {
       "output_type": "stream",
       "stream": "stdout",
       "text": [
        "\n",
        "316"
       ]
      },
      {
       "output_type": "stream",
       "stream": "stdout",
       "text": [
        "\n",
        "317"
       ]
      },
      {
       "output_type": "stream",
       "stream": "stdout",
       "text": [
        "\n",
        "318"
       ]
      },
      {
       "output_type": "stream",
       "stream": "stdout",
       "text": [
        "\n",
        "319"
       ]
      },
      {
       "output_type": "stream",
       "stream": "stdout",
       "text": [
        "\n",
        "320"
       ]
      },
      {
       "output_type": "stream",
       "stream": "stdout",
       "text": [
        "\n",
        "321"
       ]
      },
      {
       "output_type": "stream",
       "stream": "stdout",
       "text": [
        "\n",
        "322"
       ]
      },
      {
       "output_type": "stream",
       "stream": "stdout",
       "text": [
        "\n",
        "323"
       ]
      },
      {
       "output_type": "stream",
       "stream": "stdout",
       "text": [
        "\n",
        "324"
       ]
      },
      {
       "output_type": "stream",
       "stream": "stdout",
       "text": [
        "\n",
        "325"
       ]
      },
      {
       "output_type": "stream",
       "stream": "stdout",
       "text": [
        "\n",
        "326"
       ]
      },
      {
       "output_type": "stream",
       "stream": "stdout",
       "text": [
        "\n",
        "327"
       ]
      },
      {
       "output_type": "stream",
       "stream": "stdout",
       "text": [
        "\n",
        "328"
       ]
      },
      {
       "output_type": "stream",
       "stream": "stdout",
       "text": [
        "\n",
        "329"
       ]
      },
      {
       "output_type": "stream",
       "stream": "stdout",
       "text": [
        "\n",
        "330"
       ]
      },
      {
       "output_type": "stream",
       "stream": "stdout",
       "text": [
        "\n",
        "331"
       ]
      },
      {
       "output_type": "stream",
       "stream": "stdout",
       "text": [
        "\n",
        "332"
       ]
      },
      {
       "output_type": "stream",
       "stream": "stdout",
       "text": [
        "\n",
        "333"
       ]
      },
      {
       "output_type": "stream",
       "stream": "stdout",
       "text": [
        "\n",
        "334"
       ]
      },
      {
       "output_type": "stream",
       "stream": "stdout",
       "text": [
        "\n",
        "335"
       ]
      },
      {
       "output_type": "stream",
       "stream": "stdout",
       "text": [
        "\n",
        "336"
       ]
      },
      {
       "output_type": "stream",
       "stream": "stdout",
       "text": [
        "\n",
        "337"
       ]
      },
      {
       "output_type": "stream",
       "stream": "stdout",
       "text": [
        "\n",
        "338"
       ]
      },
      {
       "output_type": "stream",
       "stream": "stdout",
       "text": [
        "\n",
        "339"
       ]
      },
      {
       "output_type": "stream",
       "stream": "stdout",
       "text": [
        "\n",
        "340"
       ]
      },
      {
       "output_type": "stream",
       "stream": "stdout",
       "text": [
        "\n",
        "341"
       ]
      },
      {
       "output_type": "stream",
       "stream": "stdout",
       "text": [
        "\n",
        "342"
       ]
      },
      {
       "output_type": "stream",
       "stream": "stdout",
       "text": [
        "\n",
        "343"
       ]
      },
      {
       "output_type": "stream",
       "stream": "stdout",
       "text": [
        "\n",
        "344"
       ]
      },
      {
       "output_type": "stream",
       "stream": "stdout",
       "text": [
        "\n",
        "345"
       ]
      },
      {
       "output_type": "stream",
       "stream": "stdout",
       "text": [
        "\n",
        "346"
       ]
      },
      {
       "output_type": "stream",
       "stream": "stdout",
       "text": [
        "\n",
        "347"
       ]
      },
      {
       "output_type": "stream",
       "stream": "stdout",
       "text": [
        "\n",
        "348"
       ]
      },
      {
       "output_type": "stream",
       "stream": "stdout",
       "text": [
        "\n",
        "349"
       ]
      },
      {
       "output_type": "stream",
       "stream": "stdout",
       "text": [
        "\n",
        "350"
       ]
      },
      {
       "output_type": "stream",
       "stream": "stdout",
       "text": [
        "\n",
        "351"
       ]
      },
      {
       "output_type": "stream",
       "stream": "stdout",
       "text": [
        "\n",
        "352"
       ]
      },
      {
       "output_type": "stream",
       "stream": "stdout",
       "text": [
        "\n",
        "353"
       ]
      },
      {
       "output_type": "stream",
       "stream": "stdout",
       "text": [
        "\n",
        "354"
       ]
      },
      {
       "output_type": "stream",
       "stream": "stdout",
       "text": [
        "\n",
        "355"
       ]
      },
      {
       "output_type": "stream",
       "stream": "stdout",
       "text": [
        "\n",
        "356"
       ]
      },
      {
       "output_type": "stream",
       "stream": "stdout",
       "text": [
        "\n",
        "357"
       ]
      },
      {
       "output_type": "stream",
       "stream": "stdout",
       "text": [
        "\n",
        "358"
       ]
      },
      {
       "output_type": "stream",
       "stream": "stdout",
       "text": [
        "\n",
        "359"
       ]
      },
      {
       "output_type": "stream",
       "stream": "stdout",
       "text": [
        "\n",
        "360"
       ]
      },
      {
       "output_type": "stream",
       "stream": "stdout",
       "text": [
        "\n",
        "361"
       ]
      },
      {
       "output_type": "stream",
       "stream": "stdout",
       "text": [
        "\n",
        "362"
       ]
      },
      {
       "output_type": "stream",
       "stream": "stdout",
       "text": [
        "\n",
        "363"
       ]
      },
      {
       "output_type": "stream",
       "stream": "stdout",
       "text": [
        "\n",
        "364"
       ]
      },
      {
       "output_type": "stream",
       "stream": "stdout",
       "text": [
        "\n",
        "365"
       ]
      },
      {
       "output_type": "stream",
       "stream": "stdout",
       "text": [
        "\n",
        "366"
       ]
      },
      {
       "output_type": "stream",
       "stream": "stdout",
       "text": [
        "\n",
        "367"
       ]
      },
      {
       "output_type": "stream",
       "stream": "stdout",
       "text": [
        "\n",
        "368"
       ]
      },
      {
       "output_type": "stream",
       "stream": "stdout",
       "text": [
        "\n",
        "369"
       ]
      },
      {
       "output_type": "stream",
       "stream": "stdout",
       "text": [
        "\n",
        "370"
       ]
      },
      {
       "output_type": "stream",
       "stream": "stdout",
       "text": [
        "\n",
        "371"
       ]
      },
      {
       "output_type": "stream",
       "stream": "stdout",
       "text": [
        "\n",
        "372"
       ]
      },
      {
       "output_type": "stream",
       "stream": "stdout",
       "text": [
        "\n",
        "373"
       ]
      },
      {
       "output_type": "stream",
       "stream": "stdout",
       "text": [
        "\n",
        "374"
       ]
      },
      {
       "output_type": "stream",
       "stream": "stdout",
       "text": [
        "\n",
        "375"
       ]
      },
      {
       "output_type": "stream",
       "stream": "stdout",
       "text": [
        "\n",
        "376"
       ]
      },
      {
       "output_type": "stream",
       "stream": "stdout",
       "text": [
        "\n",
        "377"
       ]
      },
      {
       "output_type": "stream",
       "stream": "stdout",
       "text": [
        "\n",
        "378"
       ]
      },
      {
       "output_type": "stream",
       "stream": "stdout",
       "text": [
        "\n",
        "379"
       ]
      },
      {
       "output_type": "stream",
       "stream": "stdout",
       "text": [
        "\n",
        "380"
       ]
      },
      {
       "output_type": "stream",
       "stream": "stdout",
       "text": [
        "\n",
        "381"
       ]
      },
      {
       "output_type": "stream",
       "stream": "stdout",
       "text": [
        "\n",
        "382"
       ]
      },
      {
       "output_type": "stream",
       "stream": "stdout",
       "text": [
        "\n",
        "383"
       ]
      },
      {
       "output_type": "stream",
       "stream": "stdout",
       "text": [
        "\n",
        "384"
       ]
      },
      {
       "output_type": "stream",
       "stream": "stdout",
       "text": [
        "\n",
        "385"
       ]
      },
      {
       "output_type": "stream",
       "stream": "stdout",
       "text": [
        "\n",
        "386"
       ]
      },
      {
       "output_type": "stream",
       "stream": "stdout",
       "text": [
        "\n",
        "387"
       ]
      },
      {
       "output_type": "stream",
       "stream": "stdout",
       "text": [
        "\n",
        "388"
       ]
      },
      {
       "output_type": "stream",
       "stream": "stdout",
       "text": [
        "\n",
        "389"
       ]
      },
      {
       "output_type": "stream",
       "stream": "stdout",
       "text": [
        "\n",
        "390"
       ]
      },
      {
       "output_type": "stream",
       "stream": "stdout",
       "text": [
        "\n",
        "391"
       ]
      },
      {
       "output_type": "stream",
       "stream": "stdout",
       "text": [
        "\n",
        "392"
       ]
      },
      {
       "output_type": "stream",
       "stream": "stdout",
       "text": [
        "\n",
        "393"
       ]
      },
      {
       "output_type": "stream",
       "stream": "stdout",
       "text": [
        "\n",
        "394"
       ]
      },
      {
       "output_type": "stream",
       "stream": "stdout",
       "text": [
        "\n",
        "395"
       ]
      },
      {
       "output_type": "stream",
       "stream": "stdout",
       "text": [
        "\n",
        "396"
       ]
      },
      {
       "output_type": "stream",
       "stream": "stdout",
       "text": [
        "\n",
        "397"
       ]
      },
      {
       "output_type": "stream",
       "stream": "stdout",
       "text": [
        "\n",
        "398"
       ]
      },
      {
       "output_type": "stream",
       "stream": "stdout",
       "text": [
        "\n",
        "399"
       ]
      },
      {
       "output_type": "stream",
       "stream": "stdout",
       "text": [
        "\n",
        "400"
       ]
      },
      {
       "output_type": "stream",
       "stream": "stdout",
       "text": [
        "\n",
        "401"
       ]
      },
      {
       "output_type": "stream",
       "stream": "stdout",
       "text": [
        "\n",
        "402"
       ]
      },
      {
       "output_type": "stream",
       "stream": "stdout",
       "text": [
        "\n",
        "403"
       ]
      },
      {
       "output_type": "stream",
       "stream": "stdout",
       "text": [
        "\n",
        "404"
       ]
      },
      {
       "output_type": "stream",
       "stream": "stdout",
       "text": [
        "\n",
        "405"
       ]
      },
      {
       "output_type": "stream",
       "stream": "stdout",
       "text": [
        "\n",
        "406"
       ]
      },
      {
       "output_type": "stream",
       "stream": "stdout",
       "text": [
        "\n",
        "407"
       ]
      },
      {
       "output_type": "stream",
       "stream": "stdout",
       "text": [
        "\n",
        "408"
       ]
      },
      {
       "output_type": "stream",
       "stream": "stdout",
       "text": [
        "\n",
        "409"
       ]
      },
      {
       "output_type": "stream",
       "stream": "stdout",
       "text": [
        "\n",
        "410"
       ]
      },
      {
       "output_type": "stream",
       "stream": "stdout",
       "text": [
        "\n",
        "411"
       ]
      },
      {
       "output_type": "stream",
       "stream": "stdout",
       "text": [
        "\n",
        "412"
       ]
      },
      {
       "output_type": "stream",
       "stream": "stdout",
       "text": [
        "\n",
        "413"
       ]
      },
      {
       "output_type": "stream",
       "stream": "stdout",
       "text": [
        "\n",
        "414"
       ]
      },
      {
       "output_type": "stream",
       "stream": "stdout",
       "text": [
        "\n",
        "415"
       ]
      },
      {
       "output_type": "stream",
       "stream": "stdout",
       "text": [
        "\n",
        "416"
       ]
      },
      {
       "output_type": "stream",
       "stream": "stdout",
       "text": [
        "\n",
        "417"
       ]
      },
      {
       "output_type": "stream",
       "stream": "stdout",
       "text": [
        "\n",
        "418"
       ]
      },
      {
       "output_type": "stream",
       "stream": "stdout",
       "text": [
        "\n",
        "419"
       ]
      },
      {
       "output_type": "stream",
       "stream": "stdout",
       "text": [
        "\n",
        "420"
       ]
      },
      {
       "output_type": "stream",
       "stream": "stdout",
       "text": [
        "\n",
        "421"
       ]
      },
      {
       "output_type": "stream",
       "stream": "stdout",
       "text": [
        "\n",
        "422"
       ]
      },
      {
       "output_type": "stream",
       "stream": "stdout",
       "text": [
        "\n",
        "423"
       ]
      },
      {
       "output_type": "stream",
       "stream": "stdout",
       "text": [
        "\n",
        "424"
       ]
      },
      {
       "output_type": "stream",
       "stream": "stdout",
       "text": [
        "\n",
        "425"
       ]
      },
      {
       "output_type": "stream",
       "stream": "stdout",
       "text": [
        "\n",
        "426"
       ]
      },
      {
       "output_type": "stream",
       "stream": "stdout",
       "text": [
        "\n",
        "427"
       ]
      },
      {
       "output_type": "stream",
       "stream": "stdout",
       "text": [
        "\n",
        "428"
       ]
      },
      {
       "output_type": "stream",
       "stream": "stdout",
       "text": [
        "\n",
        "429"
       ]
      },
      {
       "output_type": "stream",
       "stream": "stdout",
       "text": [
        "\n",
        "430"
       ]
      },
      {
       "output_type": "stream",
       "stream": "stdout",
       "text": [
        "\n",
        "431"
       ]
      },
      {
       "output_type": "stream",
       "stream": "stdout",
       "text": [
        "\n",
        "432"
       ]
      },
      {
       "output_type": "stream",
       "stream": "stdout",
       "text": [
        "\n",
        "433"
       ]
      },
      {
       "output_type": "stream",
       "stream": "stdout",
       "text": [
        "\n",
        "434"
       ]
      },
      {
       "output_type": "stream",
       "stream": "stdout",
       "text": [
        "\n",
        "435"
       ]
      },
      {
       "output_type": "stream",
       "stream": "stdout",
       "text": [
        "\n",
        "436"
       ]
      },
      {
       "output_type": "stream",
       "stream": "stdout",
       "text": [
        "\n",
        "437"
       ]
      },
      {
       "output_type": "stream",
       "stream": "stdout",
       "text": [
        "\n",
        "438"
       ]
      },
      {
       "output_type": "stream",
       "stream": "stdout",
       "text": [
        "\n",
        "439"
       ]
      },
      {
       "output_type": "stream",
       "stream": "stdout",
       "text": [
        "\n",
        "440"
       ]
      },
      {
       "output_type": "stream",
       "stream": "stdout",
       "text": [
        "\n",
        "441"
       ]
      },
      {
       "output_type": "stream",
       "stream": "stdout",
       "text": [
        "\n",
        "442"
       ]
      },
      {
       "output_type": "stream",
       "stream": "stdout",
       "text": [
        "\n",
        "443"
       ]
      },
      {
       "output_type": "stream",
       "stream": "stdout",
       "text": [
        "\n",
        "444"
       ]
      },
      {
       "output_type": "stream",
       "stream": "stdout",
       "text": [
        "\n",
        "445"
       ]
      },
      {
       "output_type": "stream",
       "stream": "stdout",
       "text": [
        "\n",
        "446"
       ]
      },
      {
       "output_type": "stream",
       "stream": "stdout",
       "text": [
        "\n",
        "447"
       ]
      },
      {
       "output_type": "stream",
       "stream": "stdout",
       "text": [
        "\n",
        "448"
       ]
      },
      {
       "output_type": "stream",
       "stream": "stdout",
       "text": [
        "\n",
        "449"
       ]
      },
      {
       "output_type": "stream",
       "stream": "stdout",
       "text": [
        "\n",
        "450"
       ]
      },
      {
       "output_type": "stream",
       "stream": "stdout",
       "text": [
        "\n",
        "451"
       ]
      },
      {
       "output_type": "stream",
       "stream": "stdout",
       "text": [
        "\n",
        "452"
       ]
      },
      {
       "output_type": "stream",
       "stream": "stdout",
       "text": [
        "\n",
        "453"
       ]
      },
      {
       "output_type": "stream",
       "stream": "stdout",
       "text": [
        "\n",
        "454"
       ]
      },
      {
       "output_type": "stream",
       "stream": "stdout",
       "text": [
        "\n",
        "455"
       ]
      },
      {
       "output_type": "stream",
       "stream": "stdout",
       "text": [
        "\n",
        "456"
       ]
      },
      {
       "output_type": "stream",
       "stream": "stdout",
       "text": [
        "\n",
        "457"
       ]
      },
      {
       "output_type": "stream",
       "stream": "stdout",
       "text": [
        "\n",
        "458"
       ]
      },
      {
       "output_type": "stream",
       "stream": "stdout",
       "text": [
        "\n",
        "459"
       ]
      },
      {
       "output_type": "stream",
       "stream": "stdout",
       "text": [
        "\n",
        "460"
       ]
      },
      {
       "output_type": "stream",
       "stream": "stdout",
       "text": [
        "\n",
        "461"
       ]
      },
      {
       "output_type": "stream",
       "stream": "stdout",
       "text": [
        "\n",
        "462"
       ]
      },
      {
       "output_type": "stream",
       "stream": "stdout",
       "text": [
        "\n",
        "463"
       ]
      },
      {
       "output_type": "stream",
       "stream": "stdout",
       "text": [
        "\n",
        "464"
       ]
      },
      {
       "output_type": "stream",
       "stream": "stdout",
       "text": [
        "\n",
        "465"
       ]
      },
      {
       "output_type": "stream",
       "stream": "stdout",
       "text": [
        "\n",
        "466"
       ]
      },
      {
       "output_type": "stream",
       "stream": "stdout",
       "text": [
        "\n",
        "467"
       ]
      },
      {
       "output_type": "stream",
       "stream": "stdout",
       "text": [
        "\n",
        "468"
       ]
      },
      {
       "output_type": "stream",
       "stream": "stdout",
       "text": [
        "\n",
        "469"
       ]
      },
      {
       "output_type": "stream",
       "stream": "stdout",
       "text": [
        "\n",
        "470"
       ]
      },
      {
       "output_type": "stream",
       "stream": "stdout",
       "text": [
        "\n",
        "471"
       ]
      },
      {
       "output_type": "stream",
       "stream": "stdout",
       "text": [
        "\n",
        "472"
       ]
      },
      {
       "output_type": "stream",
       "stream": "stdout",
       "text": [
        "\n",
        "473"
       ]
      },
      {
       "output_type": "stream",
       "stream": "stdout",
       "text": [
        "\n",
        "474"
       ]
      },
      {
       "output_type": "stream",
       "stream": "stdout",
       "text": [
        "\n",
        "475"
       ]
      },
      {
       "output_type": "stream",
       "stream": "stdout",
       "text": [
        "\n",
        "476"
       ]
      },
      {
       "output_type": "stream",
       "stream": "stdout",
       "text": [
        "\n",
        "477"
       ]
      },
      {
       "output_type": "stream",
       "stream": "stdout",
       "text": [
        "\n",
        "478"
       ]
      },
      {
       "output_type": "stream",
       "stream": "stdout",
       "text": [
        "\n",
        "479"
       ]
      },
      {
       "output_type": "stream",
       "stream": "stdout",
       "text": [
        "\n",
        "480"
       ]
      },
      {
       "output_type": "stream",
       "stream": "stdout",
       "text": [
        "\n",
        "481"
       ]
      },
      {
       "output_type": "stream",
       "stream": "stdout",
       "text": [
        "\n",
        "482"
       ]
      },
      {
       "output_type": "stream",
       "stream": "stdout",
       "text": [
        "\n",
        "483"
       ]
      },
      {
       "output_type": "stream",
       "stream": "stdout",
       "text": [
        "\n",
        "484"
       ]
      },
      {
       "output_type": "stream",
       "stream": "stdout",
       "text": [
        "\n",
        "485"
       ]
      },
      {
       "output_type": "stream",
       "stream": "stdout",
       "text": [
        "\n",
        "486"
       ]
      },
      {
       "output_type": "stream",
       "stream": "stdout",
       "text": [
        "\n",
        "487"
       ]
      },
      {
       "output_type": "stream",
       "stream": "stdout",
       "text": [
        "\n",
        "488"
       ]
      },
      {
       "output_type": "stream",
       "stream": "stdout",
       "text": [
        "\n",
        "489"
       ]
      },
      {
       "output_type": "stream",
       "stream": "stdout",
       "text": [
        "\n",
        "490"
       ]
      },
      {
       "output_type": "stream",
       "stream": "stdout",
       "text": [
        "\n",
        "491"
       ]
      },
      {
       "output_type": "stream",
       "stream": "stdout",
       "text": [
        "\n",
        "492"
       ]
      },
      {
       "output_type": "stream",
       "stream": "stdout",
       "text": [
        "\n",
        "493"
       ]
      },
      {
       "output_type": "stream",
       "stream": "stdout",
       "text": [
        "\n",
        "494"
       ]
      },
      {
       "output_type": "stream",
       "stream": "stdout",
       "text": [
        "\n",
        "495"
       ]
      },
      {
       "output_type": "stream",
       "stream": "stdout",
       "text": [
        "\n",
        "496"
       ]
      },
      {
       "output_type": "stream",
       "stream": "stdout",
       "text": [
        "\n",
        "497"
       ]
      },
      {
       "output_type": "stream",
       "stream": "stdout",
       "text": [
        "\n",
        "498"
       ]
      },
      {
       "output_type": "stream",
       "stream": "stdout",
       "text": [
        "\n",
        "499"
       ]
      },
      {
       "output_type": "stream",
       "stream": "stdout",
       "text": [
        "\n"
       ]
      }
     ],
     "prompt_number": 130
    },
    {
     "cell_type": "code",
     "collapsed": false,
     "input": [
      "# Statistical measures\n",
      "mean_rand_df = np.mean(random_coc)\n",
      "\n",
      "# Compute std-dev\n",
      "\n",
      "testDF = (pd.concat(random_coc, axis=1, keys=range(len(random_coc)))\n",
      "         .swaplevel(0, 1, axis=1)\n",
      "         .sortlevel(axis=1)\n",
      "         .groupby(level=0, axis=1))\n"
     ],
     "language": "python",
     "metadata": {},
     "outputs": [],
     "prompt_number": 131
    },
    {
     "cell_type": "code",
     "collapsed": false,
     "input": [
      "# testing this std shit\n",
      "std_rand_df = testDF.aggregate(np.std)\n",
      "americaamerica = []\n",
      "for a in random_coc:\n",
      "    americaamerica.append(float(a['american']['american']))"
     ],
     "language": "python",
     "metadata": {},
     "outputs": [
      {
       "metadata": {},
       "output_type": "display_data",
       "png": "[encoded data removed]",
       "text": [
        "<matplotlib.figure.Figure at 0x109d979d0>"
       ]
      }
     ],
     "prompt_number": 132
    },
    {
     "cell_type": "code",
     "collapsed": false,
     "input": [
      "plt.hist(np.array(americaamerica),10)\n",
      "plt.title('American-American distribution over %i random trials'%n_shuffle)\n",
      "plt.show()"
     ],
     "language": "python",
     "metadata": {},
     "outputs": [
      {
       "metadata": {},
       "output_type": "display_data",
       "png": "[encoded data removed]",
       "text": [
        "<matplotlib.figure.Figure at 0x10cd18390>"
       ]
      }
     ],
     "prompt_number": 133
    },
    {
     "cell_type": "code",
     "collapsed": false,
     "input": [],
     "language": "python",
     "metadata": {},
     "outputs": [
      {
       "html": [
        "<div style=\"max-height:1000px;max-width:1500px;overflow:auto;\">\n",
        "<table border=\"1\" class=\"dataframe\">\n",
        "  <thead>\n",
        "    <tr style=\"text-align: right;\">\n",
        "      <th></th>\n",
        "      <th>african</th>\n",
        "      <th>american</th>\n",
        "      <th>argentinian</th>\n",
        "      <th>asian</th>\n",
        "      <th>australian</th>\n",
        "      <th>bagels</th>\n",
        "      <th>bakery</th>\n",
        "      <th>bbq</th>\n",
        "      <th>bistro</th>\n",
        "      <th>brazilian</th>\n",
        "      <th>breakfast</th>\n",
        "      <th>bubble tea</th>\n",
        "      <th>buffet</th>\n",
        "      <th>burgers</th>\n",
        "      <th>burritos</th>\n",
        "      <th>cafe</th>\n",
        "      <th>cajun / creole</th>\n",
        "      <th>cantonese</th>\n",
        "      <th>caribbean</th>\n",
        "      <th>chinese</th>\n",
        "      <th></th>\n",
        "    </tr>\n",
        "  </thead>\n",
        "  <tbody>\n",
        "    <tr>\n",
        "      <th>african</th>\n",
        "      <td> 0.000000</td>\n",
        "      <td>  0.731460</td>\n",
        "      <td> 0.063182</td>\n",
        "      <td> 0.340335</td>\n",
        "      <td> 0.000000</td>\n",
        "      <td> 0.196930</td>\n",
        "      <td> 0.348205</td>\n",
        "      <td> 0.323427</td>\n",
        "      <td> 0.000000</td>\n",
        "      <td> 0.099598</td>\n",
        "      <td>  0.405073</td>\n",
        "      <td> 0.063182</td>\n",
        "      <td> 0.044721</td>\n",
        "      <td>  0.589864</td>\n",
        "      <td> 0.165138</td>\n",
        "      <td> 0.363153</td>\n",
        "      <td> 0.181411</td>\n",
        "      <td> 0.000000</td>\n",
        "      <td> 0.159295</td>\n",
        "      <td>  0.397684</td>\n",
        "      <td>...</td>\n",
        "    </tr>\n",
        "    <tr>\n",
        "      <th>american</th>\n",
        "      <td> 0.731460</td>\n",
        "      <td> 30.772817</td>\n",
        "      <td> 2.184745</td>\n",
        "      <td> 8.154149</td>\n",
        "      <td> 0.853060</td>\n",
        "      <td> 4.630852</td>\n",
        "      <td> 9.225371</td>\n",
        "      <td> 8.596989</td>\n",
        "      <td> 0.764637</td>\n",
        "      <td> 2.303957</td>\n",
        "      <td> 10.683888</td>\n",
        "      <td> 1.168902</td>\n",
        "      <td> 0.803826</td>\n",
        "      <td> 14.046756</td>\n",
        "      <td> 5.059129</td>\n",
        "      <td> 9.481165</td>\n",
        "      <td> 4.527247</td>\n",
        "      <td> 0.854729</td>\n",
        "      <td> 3.536421</td>\n",
        "      <td>  9.790464</td>\n",
        "      <td>...</td>\n",
        "    </tr>\n",
        "    <tr>\n",
        "      <th>argentinian</th>\n",
        "      <td> 0.063182</td>\n",
        "      <td>  2.184745</td>\n",
        "      <td> 0.251202</td>\n",
        "      <td> 0.912316</td>\n",
        "      <td> 0.063182</td>\n",
        "      <td> 0.460247</td>\n",
        "      <td> 0.916917</td>\n",
        "      <td> 0.821466</td>\n",
        "      <td> 0.063182</td>\n",
        "      <td> 0.213980</td>\n",
        "      <td>  1.071257</td>\n",
        "      <td> 0.133084</td>\n",
        "      <td> 0.089173</td>\n",
        "      <td>  1.256288</td>\n",
        "      <td> 0.465994</td>\n",
        "      <td> 0.896540</td>\n",
        "      <td> 0.398414</td>\n",
        "      <td> 0.125601</td>\n",
        "      <td> 0.349812</td>\n",
        "      <td>  0.987446</td>\n",
        "      <td>...</td>\n",
        "    </tr>\n",
        "    <tr>\n",
        "      <th>asian</th>\n",
        "      <td> 0.340335</td>\n",
        "      <td>  8.154149</td>\n",
        "      <td> 0.912316</td>\n",
        "      <td> 4.207970</td>\n",
        "      <td> 0.344967</td>\n",
        "      <td> 1.750510</td>\n",
        "      <td> 3.633833</td>\n",
        "      <td> 3.025129</td>\n",
        "      <td> 0.302951</td>\n",
        "      <td> 0.863128</td>\n",
        "      <td>  4.105920</td>\n",
        "      <td> 0.435034</td>\n",
        "      <td> 0.256467</td>\n",
        "      <td>  5.209491</td>\n",
        "      <td> 1.952465</td>\n",
        "      <td> 3.780948</td>\n",
        "      <td> 1.657285</td>\n",
        "      <td> 0.329565</td>\n",
        "      <td> 1.404115</td>\n",
        "      <td>  3.949953</td>\n",
        "      <td>...</td>\n",
        "    </tr>\n",
        "    <tr>\n",
        "      <th>australian</th>\n",
        "      <td> 0.000000</td>\n",
        "      <td>  0.853060</td>\n",
        "      <td> 0.063182</td>\n",
        "      <td> 0.344967</td>\n",
        "      <td> 0.000000</td>\n",
        "      <td> 0.214840</td>\n",
        "      <td> 0.352552</td>\n",
        "      <td> 0.327075</td>\n",
        "      <td> 0.000000</td>\n",
        "      <td> 0.077304</td>\n",
        "      <td>  0.441400</td>\n",
        "      <td> 0.000000</td>\n",
        "      <td> 0.000000</td>\n",
        "      <td>  0.509922</td>\n",
        "      <td> 0.202301</td>\n",
        "      <td> 0.406481</td>\n",
        "      <td> 0.146830</td>\n",
        "      <td> 0.000000</td>\n",
        "      <td> 0.159295</td>\n",
        "      <td>  0.396498</td>\n",
        "      <td>...</td>\n",
        "    </tr>\n",
        "    <tr>\n",
        "      <th>bagels</th>\n",
        "      <td> 0.196930</td>\n",
        "      <td>  4.630852</td>\n",
        "      <td> 0.460247</td>\n",
        "      <td> 1.750510</td>\n",
        "      <td> 0.214840</td>\n",
        "      <td> 1.383000</td>\n",
        "      <td> 2.105346</td>\n",
        "      <td> 1.717409</td>\n",
        "      <td> 0.192140</td>\n",
        "      <td> 0.494766</td>\n",
        "      <td>  2.288824</td>\n",
        "      <td> 0.262033</td>\n",
        "      <td> 0.159295</td>\n",
        "      <td>  3.049686</td>\n",
        "      <td> 1.037669</td>\n",
        "      <td> 2.009552</td>\n",
        "      <td> 0.924559</td>\n",
        "      <td> 0.165138</td>\n",
        "      <td> 0.734151</td>\n",
        "      <td>  2.315233</td>\n",
        "      <td>...</td>\n",
        "    </tr>\n",
        "    <tr>\n",
        "      <th>bakery</th>\n",
        "      <td> 0.348205</td>\n",
        "      <td>  9.225371</td>\n",
        "      <td> 0.916917</td>\n",
        "      <td> 3.633833</td>\n",
        "      <td> 0.352552</td>\n",
        "      <td> 2.105346</td>\n",
        "      <td> 5.791674</td>\n",
        "      <td> 3.753463</td>\n",
        "      <td> 0.335931</td>\n",
        "      <td> 0.960918</td>\n",
        "      <td>  4.805239</td>\n",
        "      <td> 0.485703</td>\n",
        "      <td> 0.356132</td>\n",
        "      <td>  6.382268</td>\n",
        "      <td> 2.080932</td>\n",
        "      <td> 4.323353</td>\n",
        "      <td> 1.919978</td>\n",
        "      <td> 0.358688</td>\n",
        "      <td> 1.469279</td>\n",
        "      <td>  4.821643</td>\n",
        "      <td>...</td>\n",
        "    </tr>\n",
        "    <tr>\n",
        "      <th>bbq</th>\n",
        "      <td> 0.323427</td>\n",
        "      <td>  8.596989</td>\n",
        "      <td> 0.821466</td>\n",
        "      <td> 3.025129</td>\n",
        "      <td> 0.327075</td>\n",
        "      <td> 1.717409</td>\n",
        "      <td> 3.753463</td>\n",
        "      <td> 4.914694</td>\n",
        "      <td> 0.347242</td>\n",
        "      <td> 0.890934</td>\n",
        "      <td>  4.312712</td>\n",
        "      <td> 0.484038</td>\n",
        "      <td> 0.295721</td>\n",
        "      <td>  5.394650</td>\n",
        "      <td> 1.913563</td>\n",
        "      <td> 3.792872</td>\n",
        "      <td> 1.830723</td>\n",
        "      <td> 0.362462</td>\n",
        "      <td> 1.453695</td>\n",
        "      <td>  4.224279</td>\n",
        "      <td>...</td>\n",
        "    </tr>\n",
        "    <tr>\n",
        "      <th>bistro</th>\n",
        "      <td> 0.000000</td>\n",
        "      <td>  0.764637</td>\n",
        "      <td> 0.063182</td>\n",
        "      <td> 0.302951</td>\n",
        "      <td> 0.000000</td>\n",
        "      <td> 0.192140</td>\n",
        "      <td> 0.335931</td>\n",
        "      <td> 0.347242</td>\n",
        "      <td> 0.000000</td>\n",
        "      <td> 0.063182</td>\n",
        "      <td>  0.410015</td>\n",
        "      <td> 0.044721</td>\n",
        "      <td> 0.044721</td>\n",
        "      <td>  0.495830</td>\n",
        "      <td> 0.196155</td>\n",
        "      <td> 0.363743</td>\n",
        "      <td> 0.165138</td>\n",
        "      <td> 0.000000</td>\n",
        "      <td> 0.147375</td>\n",
        "      <td>  0.393183</td>\n",
        "      <td>...</td>\n",
        "    </tr>\n",
        "    <tr>\n",
        "      <th>brazilian</th>\n",
        "      <td> 0.099598</td>\n",
        "      <td>  2.303957</td>\n",
        "      <td> 0.213980</td>\n",
        "      <td> 0.863128</td>\n",
        "      <td> 0.077304</td>\n",
        "      <td> 0.494766</td>\n",
        "      <td> 0.960918</td>\n",
        "      <td> 0.890934</td>\n",
        "      <td> 0.063182</td>\n",
        "      <td> 0.330276</td>\n",
        "      <td>  1.125225</td>\n",
        "      <td> 0.108994</td>\n",
        "      <td> 0.000000</td>\n",
        "      <td>  1.335459</td>\n",
        "      <td> 0.465443</td>\n",
        "      <td> 1.017465</td>\n",
        "      <td> 0.468362</td>\n",
        "      <td> 0.077304</td>\n",
        "      <td> 0.356666</td>\n",
        "      <td>  1.125893</td>\n",
        "      <td>...</td>\n",
        "    </tr>\n",
        "    <tr>\n",
        "      <th>breakfast</th>\n",
        "      <td> 0.405073</td>\n",
        "      <td> 10.683888</td>\n",
        "      <td> 1.071257</td>\n",
        "      <td> 4.105920</td>\n",
        "      <td> 0.441400</td>\n",
        "      <td> 2.288824</td>\n",
        "      <td> 4.805239</td>\n",
        "      <td> 4.312712</td>\n",
        "      <td> 0.410015</td>\n",
        "      <td> 1.125225</td>\n",
        "      <td>  8.146966</td>\n",
        "      <td> 0.552912</td>\n",
        "      <td> 0.416393</td>\n",
        "      <td>  6.945132</td>\n",
        "      <td> 2.522924</td>\n",
        "      <td> 4.672730</td>\n",
        "      <td> 2.282052</td>\n",
        "      <td> 0.457487</td>\n",
        "      <td> 1.823335</td>\n",
        "      <td>  5.705396</td>\n",
        "      <td>...</td>\n",
        "    </tr>\n",
        "    <tr>\n",
        "      <th>bubble tea</th>\n",
        "      <td> 0.063182</td>\n",
        "      <td>  1.168902</td>\n",
        "      <td> 0.133084</td>\n",
        "      <td> 0.435034</td>\n",
        "      <td> 0.000000</td>\n",
        "      <td> 0.262033</td>\n",
        "      <td> 0.485703</td>\n",
        "      <td> 0.484038</td>\n",
        "      <td> 0.044721</td>\n",
        "      <td> 0.108994</td>\n",
        "      <td>  0.552912</td>\n",
        "      <td> 0.000000</td>\n",
        "      <td> 0.000000</td>\n",
        "      <td>  0.722676</td>\n",
        "      <td> 0.278847</td>\n",
        "      <td> 0.461673</td>\n",
        "      <td> 0.256467</td>\n",
        "      <td> 0.044721</td>\n",
        "      <td> 0.191388</td>\n",
        "      <td>  0.570100</td>\n",
        "      <td>...</td>\n",
        "    </tr>\n",
        "    <tr>\n",
        "      <th>buffet</th>\n",
        "      <td> 0.044721</td>\n",
        "      <td>  0.803826</td>\n",
        "      <td> 0.089173</td>\n",
        "      <td> 0.256467</td>\n",
        "      <td> 0.000000</td>\n",
        "      <td> 0.159295</td>\n",
        "      <td> 0.356132</td>\n",
        "      <td> 0.295721</td>\n",
        "      <td> 0.044721</td>\n",
        "      <td> 0.000000</td>\n",
        "      <td>  0.416393</td>\n",
        "      <td> 0.000000</td>\n",
        "      <td> 0.000000</td>\n",
        "      <td>  0.539338</td>\n",
        "      <td> 0.191388</td>\n",
        "      <td> 0.340128</td>\n",
        "      <td> 0.176176</td>\n",
        "      <td> 0.000000</td>\n",
        "      <td> 0.099598</td>\n",
        "      <td>  0.388920</td>\n",
        "      <td>...</td>\n",
        "    </tr>\n",
        "    <tr>\n",
        "      <th>burgers</th>\n",
        "      <td> 0.589864</td>\n",
        "      <td> 14.046756</td>\n",
        "      <td> 1.256288</td>\n",
        "      <td> 5.209491</td>\n",
        "      <td> 0.509922</td>\n",
        "      <td> 3.049686</td>\n",
        "      <td> 6.382268</td>\n",
        "      <td> 5.394650</td>\n",
        "      <td> 0.495830</td>\n",
        "      <td> 1.335459</td>\n",
        "      <td>  6.945132</td>\n",
        "      <td> 0.722676</td>\n",
        "      <td> 0.539338</td>\n",
        "      <td> 13.441717</td>\n",
        "      <td> 3.104396</td>\n",
        "      <td> 6.175578</td>\n",
        "      <td> 2.842801</td>\n",
        "      <td> 0.493367</td>\n",
        "      <td> 2.339806</td>\n",
        "      <td>  7.387660</td>\n",
        "      <td>...</td>\n",
        "    </tr>\n",
        "    <tr>\n",
        "      <th>burritos</th>\n",
        "      <td> 0.165138</td>\n",
        "      <td>  5.059129</td>\n",
        "      <td> 0.465994</td>\n",
        "      <td> 1.952465</td>\n",
        "      <td> 0.202301</td>\n",
        "      <td> 1.037669</td>\n",
        "      <td> 2.080932</td>\n",
        "      <td> 1.913563</td>\n",
        "      <td> 0.196155</td>\n",
        "      <td> 0.465443</td>\n",
        "      <td>  2.522924</td>\n",
        "      <td> 0.278847</td>\n",
        "      <td> 0.191388</td>\n",
        "      <td>  3.104396</td>\n",
        "      <td> 1.465154</td>\n",
        "      <td> 2.136297</td>\n",
        "      <td> 1.017874</td>\n",
        "      <td> 0.182116</td>\n",
        "      <td> 0.818805</td>\n",
        "      <td>  2.400013</td>\n",
        "      <td>...</td>\n",
        "    </tr>\n",
        "    <tr>\n",
        "      <th>cafe</th>\n",
        "      <td> 0.363153</td>\n",
        "      <td>  9.481165</td>\n",
        "      <td> 0.896540</td>\n",
        "      <td> 3.780948</td>\n",
        "      <td> 0.406481</td>\n",
        "      <td> 2.009552</td>\n",
        "      <td> 4.323353</td>\n",
        "      <td> 3.792872</td>\n",
        "      <td> 0.363743</td>\n",
        "      <td> 1.017465</td>\n",
        "      <td>  4.672730</td>\n",
        "      <td> 0.461673</td>\n",
        "      <td> 0.340128</td>\n",
        "      <td>  6.175578</td>\n",
        "      <td> 2.136297</td>\n",
        "      <td> 6.358809</td>\n",
        "      <td> 1.979797</td>\n",
        "      <td> 0.350413</td>\n",
        "      <td> 1.585327</td>\n",
        "      <td>  4.406690</td>\n",
        "      <td>...</td>\n",
        "    </tr>\n",
        "    <tr>\n",
        "      <th>cajun / creole</th>\n",
        "      <td> 0.181411</td>\n",
        "      <td>  4.527247</td>\n",
        "      <td> 0.398414</td>\n",
        "      <td> 1.657285</td>\n",
        "      <td> 0.146830</td>\n",
        "      <td> 0.924559</td>\n",
        "      <td> 1.919978</td>\n",
        "      <td> 1.830723</td>\n",
        "      <td> 0.165138</td>\n",
        "      <td> 0.468362</td>\n",
        "      <td>  2.282052</td>\n",
        "      <td> 0.256467</td>\n",
        "      <td> 0.176176</td>\n",
        "      <td>  2.842801</td>\n",
        "      <td> 1.017874</td>\n",
        "      <td> 1.979797</td>\n",
        "      <td> 1.318066</td>\n",
        "      <td> 0.196155</td>\n",
        "      <td> 0.717027</td>\n",
        "      <td>  2.181081</td>\n",
        "      <td>...</td>\n",
        "    </tr>\n",
        "    <tr>\n",
        "      <th>cantonese</th>\n",
        "      <td> 0.000000</td>\n",
        "      <td>  0.854729</td>\n",
        "      <td> 0.125601</td>\n",
        "      <td> 0.329565</td>\n",
        "      <td> 0.000000</td>\n",
        "      <td> 0.165138</td>\n",
        "      <td> 0.358688</td>\n",
        "      <td> 0.362462</td>\n",
        "      <td> 0.000000</td>\n",
        "      <td> 0.077304</td>\n",
        "      <td>  0.457487</td>\n",
        "      <td> 0.044721</td>\n",
        "      <td> 0.000000</td>\n",
        "      <td>  0.493367</td>\n",
        "      <td> 0.182116</td>\n",
        "      <td> 0.350413</td>\n",
        "      <td> 0.196155</td>\n",
        "      <td> 0.000000</td>\n",
        "      <td> 0.133084</td>\n",
        "      <td>  0.398394</td>\n",
        "      <td>...</td>\n",
        "    </tr>\n",
        "    <tr>\n",
        "      <th>caribbean</th>\n",
        "      <td> 0.159295</td>\n",
        "      <td>  3.536421</td>\n",
        "      <td> 0.349812</td>\n",
        "      <td> 1.404115</td>\n",
        "      <td> 0.159295</td>\n",
        "      <td> 0.734151</td>\n",
        "      <td> 1.469279</td>\n",
        "      <td> 1.453695</td>\n",
        "      <td> 0.147375</td>\n",
        "      <td> 0.356666</td>\n",
        "      <td>  1.823335</td>\n",
        "      <td> 0.191388</td>\n",
        "      <td> 0.099598</td>\n",
        "      <td>  2.339806</td>\n",
        "      <td> 0.818805</td>\n",
        "      <td> 1.585327</td>\n",
        "      <td> 0.717027</td>\n",
        "      <td> 0.133084</td>\n",
        "      <td> 0.751847</td>\n",
        "      <td>  1.706637</td>\n",
        "      <td>...</td>\n",
        "    </tr>\n",
        "    <tr>\n",
        "      <th>chinese</th>\n",
        "      <td> 0.397684</td>\n",
        "      <td>  9.790464</td>\n",
        "      <td> 0.987446</td>\n",
        "      <td> 3.949953</td>\n",
        "      <td> 0.396498</td>\n",
        "      <td> 2.315233</td>\n",
        "      <td> 4.821643</td>\n",
        "      <td> 4.224279</td>\n",
        "      <td> 0.393183</td>\n",
        "      <td> 1.125893</td>\n",
        "      <td>  5.705396</td>\n",
        "      <td> 0.570100</td>\n",
        "      <td> 0.388920</td>\n",
        "      <td>  7.387660</td>\n",
        "      <td> 2.400013</td>\n",
        "      <td> 4.406690</td>\n",
        "      <td> 2.181081</td>\n",
        "      <td> 0.398394</td>\n",
        "      <td> 1.706637</td>\n",
        "      <td>  7.739088</td>\n",
        "      <td>...</td>\n",
        "    </tr>\n",
        "    <tr>\n",
        "      <th>churrascaria</th>\n",
        "      <td> 0.044721</td>\n",
        "      <td>  1.333056</td>\n",
        "      <td> 0.125601</td>\n",
        "      <td> 0.481693</td>\n",
        "      <td> 0.044721</td>\n",
        "      <td> 0.242391</td>\n",
        "      <td> 0.563641</td>\n",
        "      <td> 0.422204</td>\n",
        "      <td> 0.044721</td>\n",
        "      <td> 0.125601</td>\n",
        "      <td>  0.596835</td>\n",
        "      <td> 0.044721</td>\n",
        "      <td> 0.000000</td>\n",
        "      <td>  0.765831</td>\n",
        "      <td> 0.277947</td>\n",
        "      <td> 0.527405</td>\n",
        "      <td> 0.241397</td>\n",
        "      <td> 0.000000</td>\n",
        "      <td> 0.181411</td>\n",
        "      <td>  0.619574</td>\n",
        "      <td>...</td>\n",
        "    </tr>\n",
        "    <tr>\n",
        "      <th>cuban</th>\n",
        "      <td> 0.140140</td>\n",
        "      <td>  4.543608</td>\n",
        "      <td> 0.431593</td>\n",
        "      <td> 1.605765</td>\n",
        "      <td> 0.133084</td>\n",
        "      <td> 0.884901</td>\n",
        "      <td> 1.941769</td>\n",
        "      <td> 1.740343</td>\n",
        "      <td> 0.147375</td>\n",
        "      <td> 0.441799</td>\n",
        "      <td>  2.122134</td>\n",
        "      <td> 0.201587</td>\n",
        "      <td> 0.214840</td>\n",
        "      <td>  2.690921</td>\n",
        "      <td> 1.039701</td>\n",
        "      <td> 1.837567</td>\n",
        "      <td> 0.866835</td>\n",
        "      <td> 0.117608</td>\n",
        "      <td> 0.709184</td>\n",
        "      <td>  2.103734</td>\n",
        "      <td>...</td>\n",
        "    </tr>\n",
        "    <tr>\n",
        "      <th>cupcakes</th>\n",
        "      <td> 0.140140</td>\n",
        "      <td>  3.884070</td>\n",
        "      <td> 0.356890</td>\n",
        "      <td> 1.492881</td>\n",
        "      <td> 0.159295</td>\n",
        "      <td> 0.764063</td>\n",
        "      <td> 1.777053</td>\n",
        "      <td> 1.468508</td>\n",
        "      <td> 0.133084</td>\n",
        "      <td> 0.398449</td>\n",
        "      <td>  1.940265</td>\n",
        "      <td> 0.205301</td>\n",
        "      <td> 0.108994</td>\n",
        "      <td>  2.388868</td>\n",
        "      <td> 0.877407</td>\n",
        "      <td> 1.724630</td>\n",
        "      <td> 0.813836</td>\n",
        "      <td> 0.108994</td>\n",
        "      <td> 0.631073</td>\n",
        "      <td>  1.892985</td>\n",
        "      <td>...</td>\n",
        "    </tr>\n",
        "    <tr>\n",
        "      <th>deli / bodega</th>\n",
        "      <td> 0.254939</td>\n",
        "      <td>  7.043984</td>\n",
        "      <td> 0.668429</td>\n",
        "      <td> 2.506428</td>\n",
        "      <td> 0.226244</td>\n",
        "      <td> 1.532018</td>\n",
        "      <td> 3.054174</td>\n",
        "      <td> 2.840257</td>\n",
        "      <td> 0.243315</td>\n",
        "      <td> 0.680313</td>\n",
        "      <td>  3.715204</td>\n",
        "      <td> 0.368151</td>\n",
        "      <td> 0.237725</td>\n",
        "      <td>  4.518864</td>\n",
        "      <td> 1.521853</td>\n",
        "      <td> 2.998664</td>\n",
        "      <td> 1.410860</td>\n",
        "      <td> 0.244998</td>\n",
        "      <td> 1.101313</td>\n",
        "      <td>  3.403920</td>\n",
        "      <td>...</td>\n",
        "    </tr>\n",
        "    <tr>\n",
        "      <th>desserts</th>\n",
        "      <td> 0.213980</td>\n",
        "      <td>  5.812617</td>\n",
        "      <td> 0.541248</td>\n",
        "      <td> 2.131361</td>\n",
        "      <td> 0.218163</td>\n",
        "      <td> 1.172721</td>\n",
        "      <td> 2.575992</td>\n",
        "      <td> 2.328601</td>\n",
        "      <td> 0.259265</td>\n",
        "      <td> 0.591439</td>\n",
        "      <td>  2.759611</td>\n",
        "      <td> 0.309496</td>\n",
        "      <td> 0.181411</td>\n",
        "      <td>  3.934750</td>\n",
        "      <td> 1.260410</td>\n",
        "      <td> 2.609871</td>\n",
        "      <td> 1.129144</td>\n",
        "      <td> 0.205301</td>\n",
        "      <td> 0.923494</td>\n",
        "      <td>  2.834001</td>\n",
        "      <td>...</td>\n",
        "    </tr>\n",
        "    <tr>\n",
        "      <th>dim sum</th>\n",
        "      <td> 0.089173</td>\n",
        "      <td>  1.692355</td>\n",
        "      <td> 0.170758</td>\n",
        "      <td> 0.634009</td>\n",
        "      <td> 0.000000</td>\n",
        "      <td> 0.361715</td>\n",
        "      <td> 0.800488</td>\n",
        "      <td> 0.697272</td>\n",
        "      <td> 0.099598</td>\n",
        "      <td> 0.133084</td>\n",
        "      <td>  0.885644</td>\n",
        "      <td> 0.089173</td>\n",
        "      <td> 0.077304</td>\n",
        "      <td>  1.113105</td>\n",
        "      <td> 0.380381</td>\n",
        "      <td> 0.720265</td>\n",
        "      <td> 0.407638</td>\n",
        "      <td> 0.044721</td>\n",
        "      <td> 0.257466</td>\n",
        "      <td>  0.894989</td>\n",
        "      <td>...</td>\n",
        "    </tr>\n",
        "    <tr>\n",
        "      <th>diner</th>\n",
        "      <td> 0.330761</td>\n",
        "      <td>  8.176748</td>\n",
        "      <td> 0.798656</td>\n",
        "      <td> 2.953985</td>\n",
        "      <td> 0.325287</td>\n",
        "      <td> 1.766620</td>\n",
        "      <td> 3.593704</td>\n",
        "      <td> 3.314516</td>\n",
        "      <td> 0.301306</td>\n",
        "      <td> 0.870961</td>\n",
        "      <td>  4.192989</td>\n",
        "      <td> 0.419232</td>\n",
        "      <td> 0.309399</td>\n",
        "      <td>  5.530076</td>\n",
        "      <td> 1.908591</td>\n",
        "      <td> 3.751420</td>\n",
        "      <td> 1.624190</td>\n",
        "      <td> 0.292121</td>\n",
        "      <td> 1.393456</td>\n",
        "      <td>  4.112749</td>\n",
        "      <td>...</td>\n",
        "    </tr>\n",
        "    <tr>\n",
        "      <th>distillery</th>\n",
        "      <td> 0.000000</td>\n",
        "      <td>  0.859706</td>\n",
        "      <td> 0.000000</td>\n",
        "      <td> 0.315809</td>\n",
        "      <td> 0.000000</td>\n",
        "      <td> 0.186477</td>\n",
        "      <td> 0.369211</td>\n",
        "      <td> 0.322186</td>\n",
        "      <td> 0.000000</td>\n",
        "      <td> 0.044721</td>\n",
        "      <td>  0.404756</td>\n",
        "      <td> 0.063182</td>\n",
        "      <td> 0.044721</td>\n",
        "      <td>  0.514776</td>\n",
        "      <td> 0.182116</td>\n",
        "      <td> 0.344967</td>\n",
        "      <td> 0.159295</td>\n",
        "      <td> 0.044721</td>\n",
        "      <td> 0.133084</td>\n",
        "      <td>  0.391411</td>\n",
        "      <td>...</td>\n",
        "    </tr>\n",
        "    <tr>\n",
        "      <th>donuts</th>\n",
        "      <td> 0.170758</td>\n",
        "      <td>  5.236497</td>\n",
        "      <td> 0.534842</td>\n",
        "      <td> 1.913064</td>\n",
        "      <td> 0.219043</td>\n",
        "      <td> 1.165358</td>\n",
        "      <td> 2.371038</td>\n",
        "      <td> 2.139064</td>\n",
        "      <td> 0.201587</td>\n",
        "      <td> 0.507558</td>\n",
        "      <td>  2.643204</td>\n",
        "      <td> 0.288865</td>\n",
        "      <td> 0.200790</td>\n",
        "      <td>  3.309211</td>\n",
        "      <td> 1.159200</td>\n",
        "      <td> 2.240071</td>\n",
        "      <td> 1.008779</td>\n",
        "      <td> 0.200790</td>\n",
        "      <td> 0.820213</td>\n",
        "      <td>  2.617175</td>\n",
        "      <td>...</td>\n",
        "    </tr>\n",
        "    <tr>\n",
        "      <th>dumplings</th>\n",
        "      <td> 0.044721</td>\n",
        "      <td>  0.929249</td>\n",
        "      <td> 0.099598</td>\n",
        "      <td> 0.317171</td>\n",
        "      <td> 0.000000</td>\n",
        "      <td> 0.191388</td>\n",
        "      <td> 0.361715</td>\n",
        "      <td> 0.350728</td>\n",
        "      <td> 0.044721</td>\n",
        "      <td> 0.089173</td>\n",
        "      <td>  0.381217</td>\n",
        "      <td> 0.077304</td>\n",
        "      <td> 0.000000</td>\n",
        "      <td>  0.643898</td>\n",
        "      <td> 0.165138</td>\n",
        "      <td> 0.433705</td>\n",
        "      <td> 0.176176</td>\n",
        "      <td> 0.000000</td>\n",
        "      <td> 0.125601</td>\n",
        "      <td>  0.400095</td>\n",
        "      <td>...</td>\n",
        "    </tr>\n",
        "    <tr>\n",
        "      <th>eastern european</th>\n",
        "      <td> 0.063182</td>\n",
        "      <td>  1.417852</td>\n",
        "      <td> 0.063182</td>\n",
        "      <td> 0.532740</td>\n",
        "      <td> 0.077304</td>\n",
        "      <td> 0.356132</td>\n",
        "      <td> 0.606508</td>\n",
        "      <td> 0.610118</td>\n",
        "      <td> 0.000000</td>\n",
        "      <td> 0.133084</td>\n",
        "      <td>  0.712004</td>\n",
        "      <td> 0.077304</td>\n",
        "      <td> 0.063182</td>\n",
        "      <td>  0.884061</td>\n",
        "      <td> 0.275805</td>\n",
        "      <td> 0.599168</td>\n",
        "      <td> 0.263132</td>\n",
        "      <td> 0.044721</td>\n",
        "      <td> 0.234935</td>\n",
        "      <td>  0.773240</td>\n",
        "      <td>...</td>\n",
        "    </tr>\n",
        "    <tr>\n",
        "      <th>ethiopian</th>\n",
        "      <td> 0.077304</td>\n",
        "      <td>  1.732301</td>\n",
        "      <td> 0.159897</td>\n",
        "      <td> 0.669936</td>\n",
        "      <td> 0.044721</td>\n",
        "      <td> 0.391590</td>\n",
        "      <td> 0.726402</td>\n",
        "      <td> 0.640175</td>\n",
        "      <td> 0.077304</td>\n",
        "      <td> 0.181411</td>\n",
        "      <td>  0.873305</td>\n",
        "      <td> 0.089173</td>\n",
        "      <td> 0.044721</td>\n",
        "      <td>  1.063326</td>\n",
        "      <td> 0.358688</td>\n",
        "      <td> 0.764888</td>\n",
        "      <td> 0.361088</td>\n",
        "      <td> 0.099598</td>\n",
        "      <td> 0.278847</td>\n",
        "      <td>  0.875862</td>\n",
        "      <td>...</td>\n",
        "    </tr>\n",
        "    <tr>\n",
        "      <th>falafel</th>\n",
        "      <td> 0.077304</td>\n",
        "      <td>  2.009535</td>\n",
        "      <td> 0.200790</td>\n",
        "      <td> 0.746669</td>\n",
        "      <td> 0.063182</td>\n",
        "      <td> 0.428686</td>\n",
        "      <td> 0.888301</td>\n",
        "      <td> 0.864056</td>\n",
        "      <td> 0.108994</td>\n",
        "      <td> 0.206119</td>\n",
        "      <td>  1.067011</td>\n",
        "      <td> 0.099598</td>\n",
        "      <td> 0.099598</td>\n",
        "      <td>  1.361849</td>\n",
        "      <td> 0.444949</td>\n",
        "      <td> 0.838923</td>\n",
        "      <td> 0.433335</td>\n",
        "      <td> 0.063182</td>\n",
        "      <td> 0.312024</td>\n",
        "      <td>  0.987852</td>\n",
        "      <td>...</td>\n",
        "    </tr>\n",
        "    <tr>\n",
        "      <th>fast food</th>\n",
        "      <td> 0.595841</td>\n",
        "      <td> 15.945815</td>\n",
        "      <td> 1.481406</td>\n",
        "      <td> 6.241858</td>\n",
        "      <td> 0.661558</td>\n",
        "      <td> 3.419606</td>\n",
        "      <td> 7.178260</td>\n",
        "      <td> 6.511579</td>\n",
        "      <td> 0.686810</td>\n",
        "      <td> 1.669592</td>\n",
        "      <td>  8.161874</td>\n",
        "      <td> 0.929533</td>\n",
        "      <td> 0.665373</td>\n",
        "      <td> 10.813271</td>\n",
        "      <td> 3.828092</td>\n",
        "      <td> 7.267326</td>\n",
        "      <td> 3.475228</td>\n",
        "      <td> 0.610870</td>\n",
        "      <td> 2.731128</td>\n",
        "      <td>  8.126056</td>\n",
        "      <td>...</td>\n",
        "    </tr>\n",
        "    <tr>\n",
        "      <th>filipino</th>\n",
        "      <td> 0.077304</td>\n",
        "      <td>  1.852150</td>\n",
        "      <td> 0.191388</td>\n",
        "      <td> 0.706395</td>\n",
        "      <td> 0.044721</td>\n",
        "      <td> 0.396675</td>\n",
        "      <td> 0.779731</td>\n",
        "      <td> 0.761864</td>\n",
        "      <td> 0.077304</td>\n",
        "      <td> 0.159295</td>\n",
        "      <td>  0.850802</td>\n",
        "      <td> 0.089173</td>\n",
        "      <td> 0.108994</td>\n",
        "      <td>  1.154731</td>\n",
        "      <td> 0.414424</td>\n",
        "      <td> 0.819560</td>\n",
        "      <td> 0.352597</td>\n",
        "      <td> 0.063182</td>\n",
        "      <td> 0.294886</td>\n",
        "      <td>  0.977935</td>\n",
        "      <td>...</td>\n",
        "    </tr>\n",
        "    <tr>\n",
        "      <th>fish &amp; chips</th>\n",
        "      <td> 0.089173</td>\n",
        "      <td>  1.486693</td>\n",
        "      <td> 0.159295</td>\n",
        "      <td> 0.454521</td>\n",
        "      <td> 0.044721</td>\n",
        "      <td> 0.309496</td>\n",
        "      <td> 0.674006</td>\n",
        "      <td> 0.590082</td>\n",
        "      <td> 0.000000</td>\n",
        "      <td> 0.140140</td>\n",
        "      <td>  0.703484</td>\n",
        "      <td> 0.108994</td>\n",
        "      <td> 0.044721</td>\n",
        "      <td>  0.980800</td>\n",
        "      <td> 0.285943</td>\n",
        "      <td> 0.655288</td>\n",
        "      <td> 0.319694</td>\n",
        "      <td> 0.063182</td>\n",
        "      <td> 0.271646</td>\n",
        "      <td>  0.725278</td>\n",
        "      <td>...</td>\n",
        "    </tr>\n",
        "    <tr>\n",
        "      <th>fondue</th>\n",
        "      <td> 0.044721</td>\n",
        "      <td>  2.061425</td>\n",
        "      <td> 0.125601</td>\n",
        "      <td> 0.722418</td>\n",
        "      <td> 0.063182</td>\n",
        "      <td> 0.435402</td>\n",
        "      <td> 0.944578</td>\n",
        "      <td> 0.832070</td>\n",
        "      <td> 0.063182</td>\n",
        "      <td> 0.223149</td>\n",
        "      <td>  1.036525</td>\n",
        "      <td> 0.099598</td>\n",
        "      <td> 0.063182</td>\n",
        "      <td>  1.371184</td>\n",
        "      <td> 0.462956</td>\n",
        "      <td> 0.926380</td>\n",
        "      <td> 0.438160</td>\n",
        "      <td> 0.063182</td>\n",
        "      <td> 0.277666</td>\n",
        "      <td>  0.946528</td>\n",
        "      <td>...</td>\n",
        "    </tr>\n",
        "    <tr>\n",
        "      <th>food</th>\n",
        "      <td> 0.063182</td>\n",
        "      <td>  1.952441</td>\n",
        "      <td> 0.159295</td>\n",
        "      <td> 0.691416</td>\n",
        "      <td> 0.099598</td>\n",
        "      <td> 0.394938</td>\n",
        "      <td> 0.823140</td>\n",
        "      <td> 0.775114</td>\n",
        "      <td> 0.089173</td>\n",
        "      <td> 0.186477</td>\n",
        "      <td>  0.936039</td>\n",
        "      <td> 0.117608</td>\n",
        "      <td> 0.063182</td>\n",
        "      <td>  1.204286</td>\n",
        "      <td> 0.388203</td>\n",
        "      <td> 0.836471</td>\n",
        "      <td> 0.451868</td>\n",
        "      <td> 0.077304</td>\n",
        "      <td> 0.347657</td>\n",
        "      <td>  0.907460</td>\n",
        "      <td>...</td>\n",
        "    </tr>\n",
        "    <tr>\n",
        "      <th>food truck</th>\n",
        "      <td> 0.108994</td>\n",
        "      <td>  3.294640</td>\n",
        "      <td> 0.277666</td>\n",
        "      <td> 1.209612</td>\n",
        "      <td> 0.153202</td>\n",
        "      <td> 0.658811</td>\n",
        "      <td> 1.422650</td>\n",
        "      <td> 1.298340</td>\n",
        "      <td> 0.140140</td>\n",
        "      <td> 0.336497</td>\n",
        "      <td>  1.714725</td>\n",
        "      <td> 0.182116</td>\n",
        "      <td> 0.108994</td>\n",
        "      <td>  2.134443</td>\n",
        "      <td> 0.703510</td>\n",
        "      <td> 1.414072</td>\n",
        "      <td> 0.747675</td>\n",
        "      <td> 0.140140</td>\n",
        "      <td> 0.552872</td>\n",
        "      <td>  1.593920</td>\n",
        "      <td>...</td>\n",
        "    </tr>\n",
        "    <tr>\n",
        "      <th>french</th>\n",
        "      <td> 0.140140</td>\n",
        "      <td>  4.770559</td>\n",
        "      <td> 0.433520</td>\n",
        "      <td> 1.749668</td>\n",
        "      <td> 0.165138</td>\n",
        "      <td> 1.051759</td>\n",
        "      <td> 2.030825</td>\n",
        "      <td> 1.782318</td>\n",
        "      <td> 0.200790</td>\n",
        "      <td> 0.461673</td>\n",
        "      <td>  2.376778</td>\n",
        "      <td> 0.260845</td>\n",
        "      <td> 0.176176</td>\n",
        "      <td>  3.176095</td>\n",
        "      <td> 1.060306</td>\n",
        "      <td> 2.149801</td>\n",
        "      <td> 0.927122</td>\n",
        "      <td> 0.186477</td>\n",
        "      <td> 0.805539</td>\n",
        "      <td>  2.305334</td>\n",
        "      <td>...</td>\n",
        "    </tr>\n",
        "    <tr>\n",
        "      <th>fried chicken</th>\n",
        "      <td> 0.233978</td>\n",
        "      <td>  5.189413</td>\n",
        "      <td> 0.483288</td>\n",
        "      <td> 1.995083</td>\n",
        "      <td> 0.201587</td>\n",
        "      <td> 1.000879</td>\n",
        "      <td> 2.202454</td>\n",
        "      <td> 2.010597</td>\n",
        "      <td> 0.192140</td>\n",
        "      <td> 0.539739</td>\n",
        "      <td>  2.552296</td>\n",
        "      <td> 0.256467</td>\n",
        "      <td> 0.176176</td>\n",
        "      <td>  3.207643</td>\n",
        "      <td> 1.176720</td>\n",
        "      <td> 2.320030</td>\n",
        "      <td> 1.036170</td>\n",
        "      <td> 0.181411</td>\n",
        "      <td> 0.857830</td>\n",
        "      <td>  2.352312</td>\n",
        "      <td>...</td>\n",
        "    </tr>\n",
        "    <tr>\n",
        "      <th>frozen yogurt</th>\n",
        "      <td> 0.146830</td>\n",
        "      <td>  4.688629</td>\n",
        "      <td> 0.445305</td>\n",
        "      <td> 1.806702</td>\n",
        "      <td> 0.234935</td>\n",
        "      <td> 0.927893</td>\n",
        "      <td> 2.000476</td>\n",
        "      <td> 1.925760</td>\n",
        "      <td> 0.186477</td>\n",
        "      <td> 0.473337</td>\n",
        "      <td>  2.255143</td>\n",
        "      <td> 0.265264</td>\n",
        "      <td> 0.146830</td>\n",
        "      <td>  3.103657</td>\n",
        "      <td> 0.987018</td>\n",
        "      <td> 1.911887</td>\n",
        "      <td> 0.907780</td>\n",
        "      <td> 0.153202</td>\n",
        "      <td> 0.770443</td>\n",
        "      <td>  2.345849</td>\n",
        "      <td>...</td>\n",
        "    </tr>\n",
        "    <tr>\n",
        "      <th>gastropub</th>\n",
        "      <td> 0.153202</td>\n",
        "      <td>  4.335279</td>\n",
        "      <td> 0.425462</td>\n",
        "      <td> 1.571871</td>\n",
        "      <td> 0.181411</td>\n",
        "      <td> 0.939490</td>\n",
        "      <td> 1.899959</td>\n",
        "      <td> 1.778828</td>\n",
        "      <td> 0.159295</td>\n",
        "      <td> 0.439785</td>\n",
        "      <td>  2.220014</td>\n",
        "      <td> 0.223149</td>\n",
        "      <td> 0.187206</td>\n",
        "      <td>  2.881894</td>\n",
        "      <td> 1.026198</td>\n",
        "      <td> 1.915584</td>\n",
        "      <td> 0.843076</td>\n",
        "      <td> 0.159295</td>\n",
        "      <td> 0.713949</td>\n",
        "      <td>  2.074369</td>\n",
        "      <td>...</td>\n",
        "    </tr>\n",
        "    <tr>\n",
        "      <th>german</th>\n",
        "      <td> 0.089173</td>\n",
        "      <td>  2.448883</td>\n",
        "      <td> 0.237725</td>\n",
        "      <td> 0.851289</td>\n",
        "      <td> 0.000000</td>\n",
        "      <td> 0.535610</td>\n",
        "      <td> 1.111173</td>\n",
        "      <td> 0.957223</td>\n",
        "      <td> 0.099598</td>\n",
        "      <td> 0.263132</td>\n",
        "      <td>  1.139368</td>\n",
        "      <td> 0.108994</td>\n",
        "      <td> 0.099598</td>\n",
        "      <td>  1.617136</td>\n",
        "      <td> 0.560829</td>\n",
        "      <td> 1.049208</td>\n",
        "      <td> 0.512669</td>\n",
        "      <td> 0.063182</td>\n",
        "      <td> 0.362667</td>\n",
        "      <td>  1.158831</td>\n",
        "      <td>...</td>\n",
        "    </tr>\n",
        "    <tr>\n",
        "      <th>greek</th>\n",
        "      <td> 0.209695</td>\n",
        "      <td>  5.110707</td>\n",
        "      <td> 0.464754</td>\n",
        "      <td> 1.797762</td>\n",
        "      <td> 0.176176</td>\n",
        "      <td> 0.996475</td>\n",
        "      <td> 2.234745</td>\n",
        "      <td> 1.968948</td>\n",
        "      <td> 0.146830</td>\n",
        "      <td> 0.494474</td>\n",
        "      <td>  2.553742</td>\n",
        "      <td> 0.272714</td>\n",
        "      <td> 0.153202</td>\n",
        "      <td>  3.401786</td>\n",
        "      <td> 1.068785</td>\n",
        "      <td> 2.164886</td>\n",
        "      <td> 0.976477</td>\n",
        "      <td> 0.206119</td>\n",
        "      <td> 0.789622</td>\n",
        "      <td>  2.418297</td>\n",
        "      <td>...</td>\n",
        "    </tr>\n",
        "    <tr>\n",
        "      <th>hawaiian</th>\n",
        "      <td> 0.044721</td>\n",
        "      <td>  1.252292</td>\n",
        "      <td> 0.108994</td>\n",
        "      <td> 0.442850</td>\n",
        "      <td> 0.063182</td>\n",
        "      <td> 0.259829</td>\n",
        "      <td> 0.556524</td>\n",
        "      <td> 0.462354</td>\n",
        "      <td> 0.000000</td>\n",
        "      <td> 0.117608</td>\n",
        "      <td>  0.548457</td>\n",
        "      <td> 0.044721</td>\n",
        "      <td> 0.044721</td>\n",
        "      <td>  0.795589</td>\n",
        "      <td> 0.291021</td>\n",
        "      <td> 0.568438</td>\n",
        "      <td> 0.196155</td>\n",
        "      <td> 0.000000</td>\n",
        "      <td> 0.214840</td>\n",
        "      <td>  0.566379</td>\n",
        "      <td>...</td>\n",
        "    </tr>\n",
        "    <tr>\n",
        "      <th>hot dogs</th>\n",
        "      <td> 0.140140</td>\n",
        "      <td>  4.504051</td>\n",
        "      <td> 0.406737</td>\n",
        "      <td> 1.562859</td>\n",
        "      <td> 0.176176</td>\n",
        "      <td> 0.940302</td>\n",
        "      <td> 1.959930</td>\n",
        "      <td> 1.730250</td>\n",
        "      <td> 0.192140</td>\n",
        "      <td> 0.444151</td>\n",
        "      <td>  2.221321</td>\n",
        "      <td> 0.265135</td>\n",
        "      <td> 0.125601</td>\n",
        "      <td>  2.730294</td>\n",
        "      <td> 0.977541</td>\n",
        "      <td> 1.882601</td>\n",
        "      <td> 0.919203</td>\n",
        "      <td> 0.117608</td>\n",
        "      <td> 0.714308</td>\n",
        "      <td>  2.096940</td>\n",
        "      <td>...</td>\n",
        "    </tr>\n",
        "    <tr>\n",
        "      <th>hotpot</th>\n",
        "      <td> 0.000000</td>\n",
        "      <td>  0.865132</td>\n",
        "      <td> 0.044721</td>\n",
        "      <td> 0.315904</td>\n",
        "      <td> 0.000000</td>\n",
        "      <td> 0.165138</td>\n",
        "      <td> 0.348464</td>\n",
        "      <td> 0.337829</td>\n",
        "      <td> 0.000000</td>\n",
        "      <td> 0.077304</td>\n",
        "      <td>  0.432192</td>\n",
        "      <td> 0.044721</td>\n",
        "      <td> 0.000000</td>\n",
        "      <td>  0.521332</td>\n",
        "      <td> 0.176176</td>\n",
        "      <td> 0.338161</td>\n",
        "      <td> 0.133084</td>\n",
        "      <td> 0.000000</td>\n",
        "      <td> 0.133084</td>\n",
        "      <td>  0.380754</td>\n",
        "      <td>...</td>\n",
        "    </tr>\n",
        "    <tr>\n",
        "      <th>ice cream</th>\n",
        "      <td> 0.294886</td>\n",
        "      <td>  9.092558</td>\n",
        "      <td> 0.807527</td>\n",
        "      <td> 3.321981</td>\n",
        "      <td> 0.306901</td>\n",
        "      <td> 1.946798</td>\n",
        "      <td> 3.758222</td>\n",
        "      <td> 3.477626</td>\n",
        "      <td> 0.374599</td>\n",
        "      <td> 0.857874</td>\n",
        "      <td>  4.165550</td>\n",
        "      <td> 0.431593</td>\n",
        "      <td> 0.301606</td>\n",
        "      <td>  5.729119</td>\n",
        "      <td> 1.906445</td>\n",
        "      <td> 3.624828</td>\n",
        "      <td> 1.830793</td>\n",
        "      <td> 0.362462</td>\n",
        "      <td> 1.477180</td>\n",
        "      <td>  4.136196</td>\n",
        "      <td>...</td>\n",
        "    </tr>\n",
        "    <tr>\n",
        "      <th>indian</th>\n",
        "      <td> 0.218163</td>\n",
        "      <td>  5.968607</td>\n",
        "      <td> 0.566036</td>\n",
        "      <td> 2.326310</td>\n",
        "      <td> 0.213980</td>\n",
        "      <td> 1.223458</td>\n",
        "      <td> 2.680648</td>\n",
        "      <td> 2.399047</td>\n",
        "      <td> 0.243315</td>\n",
        "      <td> 0.638570</td>\n",
        "      <td>  2.922910</td>\n",
        "      <td> 0.333146</td>\n",
        "      <td> 0.259829</td>\n",
        "      <td>  3.683304</td>\n",
        "      <td> 1.327754</td>\n",
        "      <td> 2.643799</td>\n",
        "      <td> 1.223515</td>\n",
        "      <td> 0.210534</td>\n",
        "      <td> 0.910205</td>\n",
        "      <td>  2.877025</td>\n",
        "      <td>...</td>\n",
        "    </tr>\n",
        "    <tr>\n",
        "      <th>irish</th>\n",
        "      <td> 0.063182</td>\n",
        "      <td>  2.796169</td>\n",
        "      <td> 0.271565</td>\n",
        "      <td> 1.001120</td>\n",
        "      <td> 0.117608</td>\n",
        "      <td> 0.600187</td>\n",
        "      <td> 1.238818</td>\n",
        "      <td> 1.078964</td>\n",
        "      <td> 0.160398</td>\n",
        "      <td> 0.291743</td>\n",
        "      <td>  1.391045</td>\n",
        "      <td> 0.159295</td>\n",
        "      <td> 0.125601</td>\n",
        "      <td>  1.797673</td>\n",
        "      <td> 0.587140</td>\n",
        "      <td> 1.216577</td>\n",
        "      <td> 0.557923</td>\n",
        "      <td> 0.117608</td>\n",
        "      <td> 0.470275</td>\n",
        "      <td>  1.384823</td>\n",
        "      <td>...</td>\n",
        "    </tr>\n",
        "    <tr>\n",
        "      <th>italian</th>\n",
        "      <td> 0.486495</td>\n",
        "      <td> 11.785390</td>\n",
        "      <td> 1.183336</td>\n",
        "      <td> 4.294506</td>\n",
        "      <td> 0.528661</td>\n",
        "      <td> 2.535718</td>\n",
        "      <td> 5.064162</td>\n",
        "      <td> 4.984989</td>\n",
        "      <td> 0.522350</td>\n",
        "      <td> 1.257130</td>\n",
        "      <td>  6.008478</td>\n",
        "      <td> 0.706330</td>\n",
        "      <td> 0.443574</td>\n",
        "      <td>  7.893072</td>\n",
        "      <td> 2.827477</td>\n",
        "      <td> 5.300900</td>\n",
        "      <td> 2.471565</td>\n",
        "      <td> 0.485175</td>\n",
        "      <td> 1.981448</td>\n",
        "      <td>  6.088623</td>\n",
        "      <td>...</td>\n",
        "    </tr>\n",
        "    <tr>\n",
        "      <th>japanese</th>\n",
        "      <td> 0.250523</td>\n",
        "      <td>  7.345915</td>\n",
        "      <td> 0.701773</td>\n",
        "      <td> 2.907096</td>\n",
        "      <td> 0.256467</td>\n",
        "      <td> 1.574471</td>\n",
        "      <td> 3.413128</td>\n",
        "      <td> 2.854884</td>\n",
        "      <td> 0.270641</td>\n",
        "      <td> 0.686015</td>\n",
        "      <td>  3.748060</td>\n",
        "      <td> 0.407957</td>\n",
        "      <td> 0.279966</td>\n",
        "      <td>  4.940616</td>\n",
        "      <td> 1.596603</td>\n",
        "      <td> 3.227896</td>\n",
        "      <td> 1.513878</td>\n",
        "      <td> 0.287697</td>\n",
        "      <td> 1.271439</td>\n",
        "      <td>  3.761475</td>\n",
        "      <td>...</td>\n",
        "    </tr>\n",
        "    <tr>\n",
        "      <th>korean</th>\n",
        "      <td> 0.205301</td>\n",
        "      <td>  5.742999</td>\n",
        "      <td> 0.475192</td>\n",
        "      <td> 2.049702</td>\n",
        "      <td> 0.191388</td>\n",
        "      <td> 1.125660</td>\n",
        "      <td> 2.404988</td>\n",
        "      <td> 2.165937</td>\n",
        "      <td> 0.222249</td>\n",
        "      <td> 0.574247</td>\n",
        "      <td>  2.634541</td>\n",
        "      <td> 0.278847</td>\n",
        "      <td> 0.280702</td>\n",
        "      <td>  3.705220</td>\n",
        "      <td> 1.250090</td>\n",
        "      <td> 2.508709</td>\n",
        "      <td> 1.107777</td>\n",
        "      <td> 0.209695</td>\n",
        "      <td> 0.912052</td>\n",
        "      <td>  2.532831</td>\n",
        "      <td>...</td>\n",
        "    </tr>\n",
        "    <tr>\n",
        "      <th>latin american</th>\n",
        "      <td> 0.153202</td>\n",
        "      <td>  3.629633</td>\n",
        "      <td> 0.350413</td>\n",
        "      <td> 1.301727</td>\n",
        "      <td> 0.117608</td>\n",
        "      <td> 0.697005</td>\n",
        "      <td> 1.466604</td>\n",
        "      <td> 1.422831</td>\n",
        "      <td> 0.171414</td>\n",
        "      <td> 0.371187</td>\n",
        "      <td>  1.884500</td>\n",
        "      <td> 0.196155</td>\n",
        "      <td> 0.125601</td>\n",
        "      <td>  2.361090</td>\n",
        "      <td> 0.794457</td>\n",
        "      <td> 1.572688</td>\n",
        "      <td> 0.682478</td>\n",
        "      <td> 0.181411</td>\n",
        "      <td> 0.581767</td>\n",
        "      <td>  1.704226</td>\n",
        "      <td>...</td>\n",
        "    </tr>\n",
        "    <tr>\n",
        "      <th>mac &amp; cheese</th>\n",
        "      <td> 0.044721</td>\n",
        "      <td>  0.836471</td>\n",
        "      <td> 0.089173</td>\n",
        "      <td> 0.312024</td>\n",
        "      <td> 0.044721</td>\n",
        "      <td> 0.165138</td>\n",
        "      <td> 0.323334</td>\n",
        "      <td> 0.290560</td>\n",
        "      <td> 0.000000</td>\n",
        "      <td> 0.077304</td>\n",
        "      <td>  0.463220</td>\n",
        "      <td> 0.000000</td>\n",
        "      <td> 0.000000</td>\n",
        "      <td>  0.566606</td>\n",
        "      <td> 0.191388</td>\n",
        "      <td> 0.360227</td>\n",
        "      <td> 0.140654</td>\n",
        "      <td> 0.000000</td>\n",
        "      <td> 0.140140</td>\n",
        "      <td>  0.418083</td>\n",
        "      <td>...</td>\n",
        "    </tr>\n",
        "    <tr>\n",
        "      <th>malaysian</th>\n",
        "      <td> 0.000000</td>\n",
        "      <td>  1.456175</td>\n",
        "      <td> 0.153202</td>\n",
        "      <td> 0.564125</td>\n",
        "      <td> 0.063182</td>\n",
        "      <td> 0.322186</td>\n",
        "      <td> 0.730674</td>\n",
        "      <td> 0.563623</td>\n",
        "      <td> 0.077304</td>\n",
        "      <td> 0.133084</td>\n",
        "      <td>  0.720432</td>\n",
        "      <td> 0.044721</td>\n",
        "      <td> 0.044721</td>\n",
        "      <td>  0.977213</td>\n",
        "      <td> 0.365748</td>\n",
        "      <td> 0.583717</td>\n",
        "      <td> 0.277947</td>\n",
        "      <td> 0.000000</td>\n",
        "      <td> 0.237725</td>\n",
        "      <td>  0.728201</td>\n",
        "      <td>...</td>\n",
        "    </tr>\n",
        "    <tr>\n",
        "      <th>mediterranean</th>\n",
        "      <td> 0.214840</td>\n",
        "      <td>  5.557993</td>\n",
        "      <td> 0.535771</td>\n",
        "      <td> 2.083003</td>\n",
        "      <td> 0.191388</td>\n",
        "      <td> 1.166335</td>\n",
        "      <td> 2.391588</td>\n",
        "      <td> 2.157653</td>\n",
        "      <td> 0.186477</td>\n",
        "      <td> 0.572233</td>\n",
        "      <td>  2.678049</td>\n",
        "      <td> 0.308178</td>\n",
        "      <td> 0.206119</td>\n",
        "      <td>  3.656863</td>\n",
        "      <td> 1.266512</td>\n",
        "      <td> 2.454864</td>\n",
        "      <td> 1.117919</td>\n",
        "      <td> 0.238701</td>\n",
        "      <td> 0.885137</td>\n",
        "      <td>  2.765661</td>\n",
        "      <td>...</td>\n",
        "    </tr>\n",
        "    <tr>\n",
        "      <th>mexican</th>\n",
        "      <td> 0.694608</td>\n",
        "      <td> 18.517904</td>\n",
        "      <td> 1.977163</td>\n",
        "      <td> 7.743330</td>\n",
        "      <td> 0.786853</td>\n",
        "      <td> 4.379026</td>\n",
        "      <td> 8.519633</td>\n",
        "      <td> 7.872507</td>\n",
        "      <td> 0.760508</td>\n",
        "      <td> 2.100538</td>\n",
        "      <td>  9.934353</td>\n",
        "      <td> 0.968463</td>\n",
        "      <td> 0.717254</td>\n",
        "      <td> 12.647999</td>\n",
        "      <td> 4.578144</td>\n",
        "      <td> 8.881329</td>\n",
        "      <td> 4.166878</td>\n",
        "      <td> 0.755737</td>\n",
        "      <td> 3.194582</td>\n",
        "      <td> 10.063968</td>\n",
        "      <td>...</td>\n",
        "    </tr>\n",
        "    <tr>\n",
        "      <th>middle eastern</th>\n",
        "      <td> 0.170758</td>\n",
        "      <td>  3.889246</td>\n",
        "      <td> 0.374091</td>\n",
        "      <td> 1.483586</td>\n",
        "      <td> 0.140140</td>\n",
        "      <td> 0.821990</td>\n",
        "      <td> 1.721782</td>\n",
        "      <td> 1.581835</td>\n",
        "      <td> 0.159295</td>\n",
        "      <td> 0.437629</td>\n",
        "      <td>  1.846042</td>\n",
        "      <td> 0.210534</td>\n",
        "      <td> 0.140140</td>\n",
        "      <td>  2.665371</td>\n",
        "      <td> 0.960317</td>\n",
        "      <td> 1.738950</td>\n",
        "      <td> 0.828401</td>\n",
        "      <td> 0.170758</td>\n",
        "      <td> 0.710686</td>\n",
        "      <td>  1.967890</td>\n",
        "      <td>...</td>\n",
        "    </tr>\n",
        "    <tr>\n",
        "      <th></th>\n",
        "      <td>...</td>\n",
        "      <td>...</td>\n",
        "      <td>...</td>\n",
        "      <td>...</td>\n",
        "      <td>...</td>\n",
        "      <td>...</td>\n",
        "      <td>...</td>\n",
        "      <td>...</td>\n",
        "      <td>...</td>\n",
        "      <td>...</td>\n",
        "      <td>...</td>\n",
        "      <td>...</td>\n",
        "      <td>...</td>\n",
        "      <td>...</td>\n",
        "      <td>...</td>\n",
        "      <td>...</td>\n",
        "      <td>...</td>\n",
        "      <td>...</td>\n",
        "      <td>...</td>\n",
        "      <td>...</td>\n",
        "    </tr>\n",
        "  </tbody>\n",
        "</table>\n",
        "<p>91 rows \u00d7 91 columns</p>\n",
        "</div>"
       ],
       "metadata": {},
       "output_type": "pyout",
       "prompt_number": 134,
       "text": [
        "                   african   american  argentinian     asian  australian  \\\n",
        "african           0.000000   0.731460     0.063182  0.340335    0.000000   \n",
        "american          0.731460  30.772817     2.184745  8.154149    0.853060   \n",
        "argentinian       0.063182   2.184745     0.251202  0.912316    0.063182   \n",
        "asian             0.340335   8.154149     0.912316  4.207970    0.344967   \n",
        "australian        0.000000   0.853060     0.063182  0.344967    0.000000   \n",
        "bagels            0.196930   4.630852     0.460247  1.750510    0.214840   \n",
        "bakery            0.348205   9.225371     0.916917  3.633833    0.352552   \n",
        "bbq               0.323427   8.596989     0.821466  3.025129    0.327075   \n",
        "bistro            0.000000   0.764637     0.063182  0.302951    0.000000   \n",
        "brazilian         0.099598   2.303957     0.213980  0.863128    0.077304   \n",
        "breakfast         0.405073  10.683888     1.071257  4.105920    0.441400   \n",
        "bubble tea        0.063182   1.168902     0.133084  0.435034    0.000000   \n",
        "buffet            0.044721   0.803826     0.089173  0.256467    0.000000   \n",
        "burgers           0.589864  14.046756     1.256288  5.209491    0.509922   \n",
        "burritos          0.165138   5.059129     0.465994  1.952465    0.202301   \n",
        "cafe              0.363153   9.481165     0.896540  3.780948    0.406481   \n",
        "cajun / creole    0.181411   4.527247     0.398414  1.657285    0.146830   \n",
        "cantonese         0.000000   0.854729     0.125601  0.329565    0.000000   \n",
        "caribbean         0.159295   3.536421     0.349812  1.404115    0.159295   \n",
        "chinese           0.397684   9.790464     0.987446  3.949953    0.396498   \n",
        "churrascaria      0.044721   1.333056     0.125601  0.481693    0.044721   \n",
        "cuban             0.140140   4.543608     0.431593  1.605765    0.133084   \n",
        "cupcakes          0.140140   3.884070     0.356890  1.492881    0.159295   \n",
        "deli / bodega     0.254939   7.043984     0.668429  2.506428    0.226244   \n",
        "desserts          0.213980   5.812617     0.541248  2.131361    0.218163   \n",
        "dim sum           0.089173   1.692355     0.170758  0.634009    0.000000   \n",
        "diner             0.330761   8.176748     0.798656  2.953985    0.325287   \n",
        "distillery        0.000000   0.859706     0.000000  0.315809    0.000000   \n",
        "donuts            0.170758   5.236497     0.534842  1.913064    0.219043   \n",
        "dumplings         0.044721   0.929249     0.099598  0.317171    0.000000   \n",
        "eastern european  0.063182   1.417852     0.063182  0.532740    0.077304   \n",
        "ethiopian         0.077304   1.732301     0.159897  0.669936    0.044721   \n",
        "falafel           0.077304   2.009535     0.200790  0.746669    0.063182   \n",
        "fast food         0.595841  15.945815     1.481406  6.241858    0.661558   \n",
        "filipino          0.077304   1.852150     0.191388  0.706395    0.044721   \n",
        "fish & chips      0.089173   1.486693     0.159295  0.454521    0.044721   \n",
        "fondue            0.044721   2.061425     0.125601  0.722418    0.063182   \n",
        "food              0.063182   1.952441     0.159295  0.691416    0.099598   \n",
        "food truck        0.108994   3.294640     0.277666  1.209612    0.153202   \n",
        "french            0.140140   4.770559     0.433520  1.749668    0.165138   \n",
        "fried chicken     0.233978   5.189413     0.483288  1.995083    0.201587   \n",
        "frozen yogurt     0.146830   4.688629     0.445305  1.806702    0.234935   \n",
        "gastropub         0.153202   4.335279     0.425462  1.571871    0.181411   \n",
        "german            0.089173   2.448883     0.237725  0.851289    0.000000   \n",
        "greek             0.209695   5.110707     0.464754  1.797762    0.176176   \n",
        "hawaiian          0.044721   1.252292     0.108994  0.442850    0.063182   \n",
        "hot dogs          0.140140   4.504051     0.406737  1.562859    0.176176   \n",
        "hotpot            0.000000   0.865132     0.044721  0.315904    0.000000   \n",
        "ice cream         0.294886   9.092558     0.807527  3.321981    0.306901   \n",
        "indian            0.218163   5.968607     0.566036  2.326310    0.213980   \n",
        "irish             0.063182   2.796169     0.271565  1.001120    0.117608   \n",
        "italian           0.486495  11.785390     1.183336  4.294506    0.528661   \n",
        "japanese          0.250523   7.345915     0.701773  2.907096    0.256467   \n",
        "korean            0.205301   5.742999     0.475192  2.049702    0.191388   \n",
        "latin american    0.153202   3.629633     0.350413  1.301727    0.117608   \n",
        "mac & cheese      0.044721   0.836471     0.089173  0.312024    0.044721   \n",
        "malaysian         0.000000   1.456175     0.153202  0.564125    0.063182   \n",
        "mediterranean     0.214840   5.557993     0.535771  2.083003    0.191388   \n",
        "mexican           0.694608  18.517904     1.977163  7.743330    0.786853   \n",
        "middle eastern    0.170758   3.889246     0.374091  1.483586    0.140140   \n",
        "                       ...        ...          ...       ...         ...   \n",
        "\n",
        "                    bagels    bakery       bbq    bistro  brazilian  \\\n",
        "african           0.196930  0.348205  0.323427  0.000000   0.099598   \n",
        "american          4.630852  9.225371  8.596989  0.764637   2.303957   \n",
        "argentinian       0.460247  0.916917  0.821466  0.063182   0.213980   \n",
        "asian             1.750510  3.633833  3.025129  0.302951   0.863128   \n",
        "australian        0.214840  0.352552  0.327075  0.000000   0.077304   \n",
        "bagels            1.383000  2.105346  1.717409  0.192140   0.494766   \n",
        "bakery            2.105346  5.791674  3.753463  0.335931   0.960918   \n",
        "bbq               1.717409  3.753463  4.914694  0.347242   0.890934   \n",
        "bistro            0.192140  0.335931  0.347242  0.000000   0.063182   \n",
        "brazilian         0.494766  0.960918  0.890934  0.063182   0.330276   \n",
        "breakfast         2.288824  4.805239  4.312712  0.410015   1.125225   \n",
        "bubble tea        0.262033  0.485703  0.484038  0.044721   0.108994   \n",
        "buffet            0.159295  0.356132  0.295721  0.044721   0.000000   \n",
        "burgers           3.049686  6.382268  5.394650  0.495830   1.335459   \n",
        "burritos          1.037669  2.080932  1.913563  0.196155   0.465443   \n",
        "cafe              2.009552  4.323353  3.792872  0.363743   1.017465   \n",
        "cajun / creole    0.924559  1.919978  1.830723  0.165138   0.468362   \n",
        "cantonese         0.165138  0.358688  0.362462  0.000000   0.077304   \n",
        "caribbean         0.734151  1.469279  1.453695  0.147375   0.356666   \n",
        "chinese           2.315233  4.821643  4.224279  0.393183   1.125893   \n",
        "churrascaria      0.242391  0.563641  0.422204  0.044721   0.125601   \n",
        "cuban             0.884901  1.941769  1.740343  0.147375   0.441799   \n",
        "cupcakes          0.764063  1.777053  1.468508  0.133084   0.398449   \n",
        "deli / bodega     1.532018  3.054174  2.840257  0.243315   0.680313   \n",
        "desserts          1.172721  2.575992  2.328601  0.259265   0.591439   \n",
        "dim sum           0.361715  0.800488  0.697272  0.099598   0.133084   \n",
        "diner             1.766620  3.593704  3.314516  0.301306   0.870961   \n",
        "distillery        0.186477  0.369211  0.322186  0.000000   0.044721   \n",
        "donuts            1.165358  2.371038  2.139064  0.201587   0.507558   \n",
        "dumplings         0.191388  0.361715  0.350728  0.044721   0.089173   \n",
        "eastern european  0.356132  0.606508  0.610118  0.000000   0.133084   \n",
        "ethiopian         0.391590  0.726402  0.640175  0.077304   0.181411   \n",
        "falafel           0.428686  0.888301  0.864056  0.108994   0.206119   \n",
        "fast food         3.419606  7.178260  6.511579  0.686810   1.669592   \n",
        "filipino          0.396675  0.779731  0.761864  0.077304   0.159295   \n",
        "fish & chips      0.309496  0.674006  0.590082  0.000000   0.140140   \n",
        "fondue            0.435402  0.944578  0.832070  0.063182   0.223149   \n",
        "food              0.394938  0.823140  0.775114  0.089173   0.186477   \n",
        "food truck        0.658811  1.422650  1.298340  0.140140   0.336497   \n",
        "french            1.051759  2.030825  1.782318  0.200790   0.461673   \n",
        "fried chicken     1.000879  2.202454  2.010597  0.192140   0.539739   \n",
        "frozen yogurt     0.927893  2.000476  1.925760  0.186477   0.473337   \n",
        "gastropub         0.939490  1.899959  1.778828  0.159295   0.439785   \n",
        "german            0.535610  1.111173  0.957223  0.099598   0.263132   \n",
        "greek             0.996475  2.234745  1.968948  0.146830   0.494474   \n",
        "hawaiian          0.259829  0.556524  0.462354  0.000000   0.117608   \n",
        "hot dogs          0.940302  1.959930  1.730250  0.192140   0.444151   \n",
        "hotpot            0.165138  0.348464  0.337829  0.000000   0.077304   \n",
        "ice cream         1.946798  3.758222  3.477626  0.374599   0.857874   \n",
        "indian            1.223458  2.680648  2.399047  0.243315   0.638570   \n",
        "irish             0.600187  1.238818  1.078964  0.160398   0.291743   \n",
        "italian           2.535718  5.064162  4.984989  0.522350   1.257130   \n",
        "japanese          1.574471  3.413128  2.854884  0.270641   0.686015   \n",
        "korean            1.125660  2.404988  2.165937  0.222249   0.574247   \n",
        "latin american    0.697005  1.466604  1.422831  0.171414   0.371187   \n",
        "mac & cheese      0.165138  0.323334  0.290560  0.000000   0.077304   \n",
        "malaysian         0.322186  0.730674  0.563623  0.077304   0.133084   \n",
        "mediterranean     1.166335  2.391588  2.157653  0.186477   0.572233   \n",
        "mexican           4.379026  8.519633  7.872507  0.760508   2.100538   \n",
        "middle eastern    0.821990  1.721782  1.581835  0.159295   0.437629   \n",
        "                       ...       ...       ...       ...        ...   \n",
        "\n",
        "                  breakfast  bubble tea    buffet    burgers  burritos  \\\n",
        "african            0.405073    0.063182  0.044721   0.589864  0.165138   \n",
        "american          10.683888    1.168902  0.803826  14.046756  5.059129   \n",
        "argentinian        1.071257    0.133084  0.089173   1.256288  0.465994   \n",
        "asian              4.105920    0.435034  0.256467   5.209491  1.952465   \n",
        "australian         0.441400    0.000000  0.000000   0.509922  0.202301   \n",
        "bagels             2.288824    0.262033  0.159295   3.049686  1.037669   \n",
        "bakery             4.805239    0.485703  0.356132   6.382268  2.080932   \n",
        "bbq                4.312712    0.484038  0.295721   5.394650  1.913563   \n",
        "bistro             0.410015    0.044721  0.044721   0.495830  0.196155   \n",
        "brazilian          1.125225    0.108994  0.000000   1.335459  0.465443   \n",
        "breakfast          8.146966    0.552912  0.416393   6.945132  2.522924   \n",
        "bubble tea         0.552912    0.000000  0.000000   0.722676  0.278847   \n",
        "buffet             0.416393    0.000000  0.000000   0.539338  0.191388   \n",
        "burgers            6.945132    0.722676  0.539338  13.441717  3.104396   \n",
        "burritos           2.522924    0.278847  0.191388   3.104396  1.465154   \n",
        "cafe               4.672730    0.461673  0.340128   6.175578  2.136297   \n",
        "cajun / creole     2.282052    0.256467  0.176176   2.842801  1.017874   \n",
        "cantonese          0.457487    0.044721  0.000000   0.493367  0.182116   \n",
        "caribbean          1.823335    0.191388  0.099598   2.339806  0.818805   \n",
        "chinese            5.705396    0.570100  0.388920   7.387660  2.400013   \n",
        "churrascaria       0.596835    0.044721  0.000000   0.765831  0.277947   \n",
        "cuban              2.122134    0.201587  0.214840   2.690921  1.039701   \n",
        "cupcakes           1.940265    0.205301  0.108994   2.388868  0.877407   \n",
        "deli / bodega      3.715204    0.368151  0.237725   4.518864  1.521853   \n",
        "desserts           2.759611    0.309496  0.181411   3.934750  1.260410   \n",
        "dim sum            0.885644    0.089173  0.077304   1.113105  0.380381   \n",
        "diner              4.192989    0.419232  0.309399   5.530076  1.908591   \n",
        "distillery         0.404756    0.063182  0.044721   0.514776  0.182116   \n",
        "donuts             2.643204    0.288865  0.200790   3.309211  1.159200   \n",
        "dumplings          0.381217    0.077304  0.000000   0.643898  0.165138   \n",
        "eastern european   0.712004    0.077304  0.063182   0.884061  0.275805   \n",
        "ethiopian          0.873305    0.089173  0.044721   1.063326  0.358688   \n",
        "falafel            1.067011    0.099598  0.099598   1.361849  0.444949   \n",
        "fast food          8.161874    0.929533  0.665373  10.813271  3.828092   \n",
        "filipino           0.850802    0.089173  0.108994   1.154731  0.414424   \n",
        "fish & chips       0.703484    0.108994  0.044721   0.980800  0.285943   \n",
        "fondue             1.036525    0.099598  0.063182   1.371184  0.462956   \n",
        "food               0.936039    0.117608  0.063182   1.204286  0.388203   \n",
        "food truck         1.714725    0.182116  0.108994   2.134443  0.703510   \n",
        "french             2.376778    0.260845  0.176176   3.176095  1.060306   \n",
        "fried chicken      2.552296    0.256467  0.176176   3.207643  1.176720   \n",
        "frozen yogurt      2.255143    0.265264  0.146830   3.103657  0.987018   \n",
        "gastropub          2.220014    0.223149  0.187206   2.881894  1.026198   \n",
        "german             1.139368    0.108994  0.099598   1.617136  0.560829   \n",
        "greek              2.553742    0.272714  0.153202   3.401786  1.068785   \n",
        "hawaiian           0.548457    0.044721  0.044721   0.795589  0.291021   \n",
        "hot dogs           2.221321    0.265135  0.125601   2.730294  0.977541   \n",
        "hotpot             0.432192    0.044721  0.000000   0.521332  0.176176   \n",
        "ice cream          4.165550    0.431593  0.301606   5.729119  1.906445   \n",
        "indian             2.922910    0.333146  0.259829   3.683304  1.327754   \n",
        "irish              1.391045    0.159295  0.125601   1.797673  0.587140   \n",
        "italian            6.008478    0.706330  0.443574   7.893072  2.827477   \n",
        "japanese           3.748060    0.407957  0.279966   4.940616  1.596603   \n",
        "korean             2.634541    0.278847  0.280702   3.705220  1.250090   \n",
        "latin american     1.884500    0.196155  0.125601   2.361090  0.794457   \n",
        "mac & cheese       0.463220    0.000000  0.000000   0.566606  0.191388   \n",
        "malaysian          0.720432    0.044721  0.044721   0.977213  0.365748   \n",
        "mediterranean      2.678049    0.308178  0.206119   3.656863  1.266512   \n",
        "mexican            9.934353    0.968463  0.717254  12.647999  4.578144   \n",
        "middle eastern     1.846042    0.210534  0.140140   2.665371  0.960317   \n",
        "                        ...         ...       ...        ...       ...   \n",
        "\n",
        "                      cafe  cajun / creole  cantonese  caribbean    chinese  \\\n",
        "african           0.363153        0.181411   0.000000   0.159295   0.397684   \n",
        "american          9.481165        4.527247   0.854729   3.536421   9.790464   \n",
        "argentinian       0.896540        0.398414   0.125601   0.349812   0.987446   \n",
        "asian             3.780948        1.657285   0.329565   1.404115   3.949953   \n",
        "australian        0.406481        0.146830   0.000000   0.159295   0.396498   \n",
        "bagels            2.009552        0.924559   0.165138   0.734151   2.315233   \n",
        "bakery            4.323353        1.919978   0.358688   1.469279   4.821643   \n",
        "bbq               3.792872        1.830723   0.362462   1.453695   4.224279   \n",
        "bistro            0.363743        0.165138   0.000000   0.147375   0.393183   \n",
        "brazilian         1.017465        0.468362   0.077304   0.356666   1.125893   \n",
        "breakfast         4.672730        2.282052   0.457487   1.823335   5.705396   \n",
        "bubble tea        0.461673        0.256467   0.044721   0.191388   0.570100   \n",
        "buffet            0.340128        0.176176   0.000000   0.099598   0.388920   \n",
        "burgers           6.175578        2.842801   0.493367   2.339806   7.387660   \n",
        "burritos          2.136297        1.017874   0.182116   0.818805   2.400013   \n",
        "cafe              6.358809        1.979797   0.350413   1.585327   4.406690   \n",
        "cajun / creole    1.979797        1.318066   0.196155   0.717027   2.181081   \n",
        "cantonese         0.350413        0.196155   0.000000   0.133084   0.398394   \n",
        "caribbean         1.585327        0.717027   0.133084   0.751847   1.706637   \n",
        "chinese           4.406690        2.181081   0.398394   1.706637   7.739088   \n",
        "churrascaria      0.527405        0.241397   0.000000   0.181411   0.619574   \n",
        "cuban             1.837567        0.866835   0.117608   0.709184   2.103734   \n",
        "cupcakes          1.724630        0.813836   0.108994   0.631073   1.892985   \n",
        "deli / bodega     2.998664        1.410860   0.244998   1.101313   3.403920   \n",
        "desserts          2.609871        1.129144   0.205301   0.923494   2.834001   \n",
        "dim sum           0.720265        0.407638   0.044721   0.257466   0.894989   \n",
        "diner             3.751420        1.624190   0.292121   1.393456   4.112749   \n",
        "distillery        0.344967        0.159295   0.044721   0.133084   0.391411   \n",
        "donuts            2.240071        1.008779   0.200790   0.820213   2.617175   \n",
        "dumplings         0.433705        0.176176   0.000000   0.125601   0.400095   \n",
        "eastern european  0.599168        0.263132   0.044721   0.234935   0.773240   \n",
        "ethiopian         0.764888        0.361088   0.099598   0.278847   0.875862   \n",
        "falafel           0.838923        0.433335   0.063182   0.312024   0.987852   \n",
        "fast food         7.267326        3.475228   0.610870   2.731128   8.126056   \n",
        "filipino          0.819560        0.352597   0.063182   0.294886   0.977935   \n",
        "fish & chips      0.655288        0.319694   0.063182   0.271646   0.725278   \n",
        "fondue            0.926380        0.438160   0.063182   0.277666   0.946528   \n",
        "food              0.836471        0.451868   0.077304   0.347657   0.907460   \n",
        "food truck        1.414072        0.747675   0.140140   0.552872   1.593920   \n",
        "french            2.149801        0.927122   0.186477   0.805539   2.305334   \n",
        "fried chicken     2.320030        1.036170   0.181411   0.857830   2.352312   \n",
        "frozen yogurt     1.911887        0.907780   0.153202   0.770443   2.345849   \n",
        "gastropub         1.915584        0.843076   0.159295   0.713949   2.074369   \n",
        "german            1.049208        0.512669   0.063182   0.362667   1.158831   \n",
        "greek             2.164886        0.976477   0.206119   0.789622   2.418297   \n",
        "hawaiian          0.568438        0.196155   0.000000   0.214840   0.566379   \n",
        "hot dogs          1.882601        0.919203   0.117608   0.714308   2.096940   \n",
        "hotpot            0.338161        0.133084   0.000000   0.133084   0.380754   \n",
        "ice cream         3.624828        1.830793   0.362462   1.477180   4.136196   \n",
        "indian            2.643799        1.223515   0.210534   0.910205   2.877025   \n",
        "irish             1.216577        0.557923   0.117608   0.470275   1.384823   \n",
        "italian           5.300900        2.471565   0.485175   1.981448   6.088623   \n",
        "japanese          3.227896        1.513878   0.287697   1.271439   3.761475   \n",
        "korean            2.508709        1.107777   0.209695   0.912052   2.532831   \n",
        "latin american    1.572688        0.682478   0.181411   0.581767   1.704226   \n",
        "mac & cheese      0.360227        0.140654   0.000000   0.140140   0.418083   \n",
        "malaysian         0.583717        0.277947   0.000000   0.237725   0.728201   \n",
        "mediterranean     2.454864        1.117919   0.238701   0.885137   2.765661   \n",
        "mexican           8.881329        4.166878   0.755737   3.194582  10.063968   \n",
        "middle eastern    1.738950        0.828401   0.170758   0.710686   1.967890   \n",
        "                       ...             ...        ...        ...        ...   \n",
        "\n",
        "                      \n",
        "african          ...  \n",
        "american         ...  \n",
        "argentinian      ...  \n",
        "asian            ...  \n",
        "australian       ...  \n",
        "bagels           ...  \n",
        "bakery           ...  \n",
        "bbq              ...  \n",
        "bistro           ...  \n",
        "brazilian        ...  \n",
        "breakfast        ...  \n",
        "bubble tea       ...  \n",
        "buffet           ...  \n",
        "burgers          ...  \n",
        "burritos         ...  \n",
        "cafe             ...  \n",
        "cajun / creole   ...  \n",
        "cantonese        ...  \n",
        "caribbean        ...  \n",
        "chinese          ...  \n",
        "churrascaria     ...  \n",
        "cuban            ...  \n",
        "cupcakes         ...  \n",
        "deli / bodega    ...  \n",
        "desserts         ...  \n",
        "dim sum          ...  \n",
        "diner            ...  \n",
        "distillery       ...  \n",
        "donuts           ...  \n",
        "dumplings        ...  \n",
        "eastern european ...  \n",
        "ethiopian        ...  \n",
        "falafel          ...  \n",
        "fast food        ...  \n",
        "filipino         ...  \n",
        "fish & chips     ...  \n",
        "fondue           ...  \n",
        "food             ...  \n",
        "food truck       ...  \n",
        "french           ...  \n",
        "fried chicken    ...  \n",
        "frozen yogurt    ...  \n",
        "gastropub        ...  \n",
        "german           ...  \n",
        "greek            ...  \n",
        "hawaiian         ...  \n",
        "hot dogs         ...  \n",
        "hotpot           ...  \n",
        "ice cream        ...  \n",
        "indian           ...  \n",
        "irish            ...  \n",
        "italian          ...  \n",
        "japanese         ...  \n",
        "korean           ...  \n",
        "latin american   ...  \n",
        "mac & cheese     ...  \n",
        "malaysian        ...  \n",
        "mediterranean    ...  \n",
        "mexican          ...  \n",
        "middle eastern   ...  \n",
        "\n",
        "[91 rows x 91 columns]"
       ]
      }
     ],
     "prompt_number": 134
    },
    {
     "cell_type": "code",
     "collapsed": false,
     "input": [
      "ourcats = set(expanded_df['category'])\n",
      "for thiscat in ourcats:\n",
      "    thistype = expanded_df[expanded_df['category']==thiscat]\n",
      "#     plt.hist(np.array(thistype.rating),20)\n",
      "#     plt.title(thiscat)\n",
      "#     plt.show()\n",
      "    \n",
      "temp = df[df.cluster_num==0]\n",
      "plt.hist(expanded_df.rating,50,label='Rating of Clustered Restaurants')\n",
      "plt.hist(np.array(list(temp.rating)),50,label='Rating of Unclustered Restaurants')\n",
      "plt.legend()\n",
      "plt.show()\n"
     ],
     "language": "python",
     "metadata": {},
     "outputs": [
      {
       "metadata": {},
       "output_type": "display_data",
       "png": "[encoded data removed]",
       "text": [
        "<matplotlib.figure.Figure at 0x10875ba10>"
       ]
      }
     ],
     "prompt_number": 65
    },
    {
     "cell_type": "code",
     "collapsed": false,
     "input": [
      "# Compute cross review number matrix\n",
      "oursquare = {}\n",
      "for a in expanded_df.groupby('cID'):\n",
      "    tempdf = a[1]\n",
      "    tempser = tempdf['category']\n",
      "    for b in tempdf.iterrows():\n",
      "        thisitem = b[0]\n",
      "        thiscategory = b[1][0]\n",
      "        n_rev = b[1][-1]\n",
      "        \n",
      "        if thiscategory not in oursquare:\n",
      "            oursquare[thiscategory] = {}\n",
      "        \n",
      "        dontcountself = True\n",
      "        \n",
      "        for c in tempser:\n",
      "            if c == thiscategory and dontcountself:\n",
      "                dontcountself = False\n",
      "                pass\n",
      "            else:\n",
      "                try:\n",
      "                    if c not in oursquare[thiscategory]:\n",
      "                        oursquare[thiscategory][c] = n_rev\n",
      "                    else:\n",
      "                        oursquare[thiscategory][c] += n_rev\n",
      "                except:\n",
      "                    pdb.set_trace()\n"
     ],
     "language": "python",
     "metadata": {},
     "outputs": [],
     "prompt_number": 14
    },
    {
     "cell_type": "code",
     "collapsed": false,
     "input": [
      "oursquare\n",
      "crosscounts = pd.DataFrame.from_dict(oursquare,orient='columns')\n",
      "crosscounts.fillna(0,inplace=True)"
     ],
     "language": "python",
     "metadata": {},
     "outputs": [],
     "prompt_number": 15
    },
    {
     "cell_type": "code",
     "collapsed": false,
     "input": [
      "s = pd.Series(super_list)\n",
      "cl = pd.Series(cluster_list)\n",
      "nl = pd.Series(nocluster_list)\n",
      "cl_clean = pd.Series(clean_list)"
     ],
     "language": "python",
     "metadata": {},
     "outputs": [],
     "prompt_number": 135
    },
    {
     "cell_type": "code",
     "collapsed": false,
     "input": [
      "vc = s.value_counts()\n",
      "cc = cl.value_counts()\n",
      "nc = nl.value_counts()\n",
      "cc_clean = cl_clean.value_counts()\n",
      "\n",
      "rdf = pd.DataFrame()\n",
      "rdf['all'] = vc\n",
      "rdf['clustered'] = cc\n",
      "rdf['notclustered'] = nc\n",
      "\n",
      "rdf['clusterratio'] = rdf['clustered']/rdf['all']\n",
      "\n",
      "precent_cluster = rdf['clustered'][:20].sum()/rdf['all'][:20].sum() * 100.0\n",
      "print precent_cluster"
     ],
     "language": "python",
     "metadata": {},
     "outputs": [
      {
       "output_type": "stream",
       "stream": "stdout",
       "text": [
        "61.7703349282\n"
       ]
      }
     ],
     "prompt_number": 136
    },
    {
     "cell_type": "code",
     "collapsed": false,
     "input": [
      "# Let's pair down the coc-matrix and to just have the top 10 most common categories\n",
      "most_common = cc_clean[:10].index\n",
      "cocc = coc[most_common].T[most_common].T\n",
      "crosscounts_common = crosscounts[most_common].T[most_common].T\n",
      "\n",
      "mean_counts = crosscounts_common/cocc\n",
      "\n",
      "# Make rows the percentage co-occurence\n",
      "cocc_ratio = cocc/cocc.sum(0)\n",
      "cocc_ratio = cocc_ratio.T\n",
      "cocc_ratio.to_csv('/Users/Admin/Desktop/cocc10',',')\n"
     ],
     "language": "python",
     "metadata": {},
     "outputs": [],
     "prompt_number": 73
    },
    {
     "cell_type": "code",
     "collapsed": false,
     "input": [
      "mean_rand_df_common = mean_rand_df[most_common].T[most_common].T\n",
      "std_rand_df_common = std_rand_df[most_common].T[most_common].T\n",
      "\n",
      "((cocc[(abs((cocc - mean_rand_df_common)/std_rand_df_common) - 1.96) > 0]-mean_rand_df_common)\n",
      "        /mean_rand_df_common)*100.0\n"
     ],
     "language": "python",
     "metadata": {},
     "outputs": [
      {
       "html": [
        "<div style=\"max-height:1000px;max-width:1500px;overflow:auto;\">\n",
        "<table border=\"1\" class=\"dataframe\">\n",
        "  <thead>\n",
        "    <tr style=\"text-align: right;\">\n",
        "      <th></th>\n",
        "      <th>american</th>\n",
        "      <th>mexican</th>\n",
        "      <th>fast food</th>\n",
        "      <th>pizza</th>\n",
        "      <th>burgers</th>\n",
        "      <th>sandwiches</th>\n",
        "      <th>italian</th>\n",
        "      <th>breakfast</th>\n",
        "      <th>sushi</th>\n",
        "      <th>chinese</th>\n",
        "    </tr>\n",
        "  </thead>\n",
        "  <tbody>\n",
        "    <tr>\n",
        "      <th>american</th>\n",
        "      <td>       NaN</td>\n",
        "      <td>NaN</td>\n",
        "      <td>       NaN</td>\n",
        "      <td>       NaN</td>\n",
        "      <td>NaN</td>\n",
        "      <td>-19.268874</td>\n",
        "      <td>       NaN</td>\n",
        "      <td>NaN</td>\n",
        "      <td>       NaN</td>\n",
        "      <td> -26.972293</td>\n",
        "    </tr>\n",
        "    <tr>\n",
        "      <th>mexican</th>\n",
        "      <td>       NaN</td>\n",
        "      <td>NaN</td>\n",
        "      <td>       NaN</td>\n",
        "      <td>       NaN</td>\n",
        "      <td>NaN</td>\n",
        "      <td>       NaN</td>\n",
        "      <td>       NaN</td>\n",
        "      <td>NaN</td>\n",
        "      <td>       NaN</td>\n",
        "      <td>        NaN</td>\n",
        "    </tr>\n",
        "    <tr>\n",
        "      <th>fast food</th>\n",
        "      <td>       NaN</td>\n",
        "      <td>NaN</td>\n",
        "      <td> 30.662021</td>\n",
        "      <td>       NaN</td>\n",
        "      <td>NaN</td>\n",
        "      <td>       NaN</td>\n",
        "      <td>       NaN</td>\n",
        "      <td>NaN</td>\n",
        "      <td>-35.151493</td>\n",
        "      <td>        NaN</td>\n",
        "    </tr>\n",
        "    <tr>\n",
        "      <th>pizza</th>\n",
        "      <td>       NaN</td>\n",
        "      <td>NaN</td>\n",
        "      <td>       NaN</td>\n",
        "      <td>       NaN</td>\n",
        "      <td>NaN</td>\n",
        "      <td>       NaN</td>\n",
        "      <td> 27.451314</td>\n",
        "      <td>NaN</td>\n",
        "      <td>       NaN</td>\n",
        "      <td> -32.868466</td>\n",
        "    </tr>\n",
        "    <tr>\n",
        "      <th>burgers</th>\n",
        "      <td>       NaN</td>\n",
        "      <td>NaN</td>\n",
        "      <td>       NaN</td>\n",
        "      <td>       NaN</td>\n",
        "      <td>NaN</td>\n",
        "      <td>       NaN</td>\n",
        "      <td>       NaN</td>\n",
        "      <td>NaN</td>\n",
        "      <td>       NaN</td>\n",
        "      <td>        NaN</td>\n",
        "    </tr>\n",
        "    <tr>\n",
        "      <th>sandwiches</th>\n",
        "      <td>-19.268874</td>\n",
        "      <td>NaN</td>\n",
        "      <td>       NaN</td>\n",
        "      <td>       NaN</td>\n",
        "      <td>NaN</td>\n",
        "      <td>       NaN</td>\n",
        "      <td>       NaN</td>\n",
        "      <td>NaN</td>\n",
        "      <td> 40.039330</td>\n",
        "      <td>  41.027148</td>\n",
        "    </tr>\n",
        "    <tr>\n",
        "      <th>italian</th>\n",
        "      <td>       NaN</td>\n",
        "      <td>NaN</td>\n",
        "      <td>       NaN</td>\n",
        "      <td> 27.451314</td>\n",
        "      <td>NaN</td>\n",
        "      <td>       NaN</td>\n",
        "      <td>       NaN</td>\n",
        "      <td>NaN</td>\n",
        "      <td>       NaN</td>\n",
        "      <td>        NaN</td>\n",
        "    </tr>\n",
        "    <tr>\n",
        "      <th>breakfast</th>\n",
        "      <td>       NaN</td>\n",
        "      <td>NaN</td>\n",
        "      <td>       NaN</td>\n",
        "      <td>       NaN</td>\n",
        "      <td>NaN</td>\n",
        "      <td>       NaN</td>\n",
        "      <td>       NaN</td>\n",
        "      <td>NaN</td>\n",
        "      <td>       NaN</td>\n",
        "      <td>        NaN</td>\n",
        "    </tr>\n",
        "    <tr>\n",
        "      <th>sushi</th>\n",
        "      <td>       NaN</td>\n",
        "      <td>NaN</td>\n",
        "      <td>-35.151493</td>\n",
        "      <td>       NaN</td>\n",
        "      <td>NaN</td>\n",
        "      <td> 40.039330</td>\n",
        "      <td>       NaN</td>\n",
        "      <td>NaN</td>\n",
        "      <td>       NaN</td>\n",
        "      <td>        NaN</td>\n",
        "    </tr>\n",
        "    <tr>\n",
        "      <th>chinese</th>\n",
        "      <td>-26.972293</td>\n",
        "      <td>NaN</td>\n",
        "      <td>       NaN</td>\n",
        "      <td>-32.868466</td>\n",
        "      <td>NaN</td>\n",
        "      <td> 41.027148</td>\n",
        "      <td>       NaN</td>\n",
        "      <td>NaN</td>\n",
        "      <td>       NaN</td>\n",
        "      <td> 284.101536</td>\n",
        "    </tr>\n",
        "  </tbody>\n",
        "</table>\n",
        "<p>10 rows \u00d7 10 columns</p>\n",
        "</div>"
       ],
       "metadata": {},
       "output_type": "pyout",
       "prompt_number": 153,
       "text": [
        "             american  mexican  fast food      pizza  burgers  sandwiches  \\\n",
        "american          NaN      NaN        NaN        NaN      NaN  -19.268874   \n",
        "mexican           NaN      NaN        NaN        NaN      NaN         NaN   \n",
        "fast food         NaN      NaN  30.662021        NaN      NaN         NaN   \n",
        "pizza             NaN      NaN        NaN        NaN      NaN         NaN   \n",
        "burgers           NaN      NaN        NaN        NaN      NaN         NaN   \n",
        "sandwiches -19.268874      NaN        NaN        NaN      NaN         NaN   \n",
        "italian           NaN      NaN        NaN  27.451314      NaN         NaN   \n",
        "breakfast         NaN      NaN        NaN        NaN      NaN         NaN   \n",
        "sushi             NaN      NaN -35.151493        NaN      NaN   40.039330   \n",
        "chinese    -26.972293      NaN        NaN -32.868466      NaN   41.027148   \n",
        "\n",
        "              italian  breakfast      sushi     chinese  \n",
        "american          NaN        NaN        NaN  -26.972293  \n",
        "mexican           NaN        NaN        NaN         NaN  \n",
        "fast food         NaN        NaN -35.151493         NaN  \n",
        "pizza       27.451314        NaN        NaN  -32.868466  \n",
        "burgers           NaN        NaN        NaN         NaN  \n",
        "sandwiches        NaN        NaN  40.039330   41.027148  \n",
        "italian           NaN        NaN        NaN         NaN  \n",
        "breakfast         NaN        NaN        NaN         NaN  \n",
        "sushi             NaN        NaN        NaN         NaN  \n",
        "chinese           NaN        NaN        NaN  284.101536  \n",
        "\n",
        "[10 rows x 10 columns]"
       ]
      }
     ],
     "prompt_number": 153
    },
    {
     "cell_type": "code",
     "collapsed": false,
     "input": [
      "fig, ax = plt.subplots()\n",
      "cata = (cocc-mean_rand_df_common)/(std_rand_df_common)\n",
      "heatmap = ax.pcolor(cata, cmap='hot')\n",
      "\n",
      "# put the major ticks at the middle of each cell\n",
      "ax.set_xticks(np.arange(cata.shape[0])+0.5, minor=False)\n",
      "ax.set_yticks(np.arange(cata.shape[1])+0.5, minor=False)\n",
      "\n",
      "# want a more natural, table-like display\n",
      "ax.invert_yaxis()\n",
      "ax.xaxis.tick_top()\n",
      "\n",
      "row_labels = list(most_common)\n",
      "column_labels = list(most_common)\n",
      "\n",
      "ax.set_xticklabels(row_labels, minor=False, rotation = 90)\n",
      "ax.set_yticklabels(column_labels, minor=False)\n",
      "plt.colorbar()\n",
      "plt.show()"
     ],
     "language": "python",
     "metadata": {},
     "outputs": [
      {
       "ename": "RuntimeError",
       "evalue": "You must first define an image, eg with imshow",
       "output_type": "pyerr",
       "traceback": [
        "\u001b[0;31m---------------------------------------------------------------------------\u001b[0m\n\u001b[0;31mRuntimeError\u001b[0m                              Traceback (most recent call last)",
        "\u001b[0;32m<ipython-input-180-97684cf19794>\u001b[0m in \u001b[0;36m<module>\u001b[0;34m()\u001b[0m\n\u001b[1;32m     16\u001b[0m \u001b[0max\u001b[0m\u001b[0;34m.\u001b[0m\u001b[0mset_xticklabels\u001b[0m\u001b[0;34m(\u001b[0m\u001b[0mrow_labels\u001b[0m\u001b[0;34m,\u001b[0m \u001b[0mminor\u001b[0m\u001b[0;34m=\u001b[0m\u001b[0mFalse\u001b[0m\u001b[0;34m,\u001b[0m \u001b[0mrotation\u001b[0m \u001b[0;34m=\u001b[0m \u001b[0;36m90\u001b[0m\u001b[0;34m)\u001b[0m\u001b[0;34m\u001b[0m\u001b[0m\n\u001b[1;32m     17\u001b[0m \u001b[0max\u001b[0m\u001b[0;34m.\u001b[0m\u001b[0mset_yticklabels\u001b[0m\u001b[0;34m(\u001b[0m\u001b[0mcolumn_labels\u001b[0m\u001b[0;34m,\u001b[0m \u001b[0mminor\u001b[0m\u001b[0;34m=\u001b[0m\u001b[0mFalse\u001b[0m\u001b[0;34m)\u001b[0m\u001b[0;34m\u001b[0m\u001b[0m\n\u001b[0;32m---> 18\u001b[0;31m \u001b[0mplt\u001b[0m\u001b[0;34m.\u001b[0m\u001b[0mcolorbar\u001b[0m\u001b[0;34m(\u001b[0m\u001b[0;34m)\u001b[0m\u001b[0;34m\u001b[0m\u001b[0m\n\u001b[0m\u001b[1;32m     19\u001b[0m \u001b[0mplt\u001b[0m\u001b[0;34m.\u001b[0m\u001b[0mshow\u001b[0m\u001b[0;34m(\u001b[0m\u001b[0;34m)\u001b[0m\u001b[0;34m\u001b[0m\u001b[0m\n",
        "\u001b[0;32m/System/Library/Frameworks/Python.framework/Versions/2.7/Extras/lib/python/matplotlib/pyplot.pyc\u001b[0m in \u001b[0;36mcolorbar\u001b[0;34m(mappable, cax, ax, **kw)\u001b[0m\n\u001b[1;32m   1688\u001b[0m         \u001b[0mmappable\u001b[0m \u001b[0;34m=\u001b[0m \u001b[0mgci\u001b[0m\u001b[0;34m(\u001b[0m\u001b[0;34m)\u001b[0m\u001b[0;34m\u001b[0m\u001b[0m\n\u001b[1;32m   1689\u001b[0m         \u001b[0;32mif\u001b[0m \u001b[0mmappable\u001b[0m \u001b[0;32mis\u001b[0m \u001b[0mNone\u001b[0m\u001b[0;34m:\u001b[0m\u001b[0;34m\u001b[0m\u001b[0m\n\u001b[0;32m-> 1690\u001b[0;31m             \u001b[0;32mraise\u001b[0m \u001b[0mRuntimeError\u001b[0m\u001b[0;34m(\u001b[0m\u001b[0;34m'You must first define an image, eg with imshow'\u001b[0m\u001b[0;34m)\u001b[0m\u001b[0;34m\u001b[0m\u001b[0m\n\u001b[0m\u001b[1;32m   1691\u001b[0m     \u001b[0;32mif\u001b[0m \u001b[0max\u001b[0m \u001b[0;32mis\u001b[0m \u001b[0mNone\u001b[0m\u001b[0;34m:\u001b[0m\u001b[0;34m\u001b[0m\u001b[0m\n\u001b[1;32m   1692\u001b[0m         \u001b[0max\u001b[0m \u001b[0;34m=\u001b[0m \u001b[0mgca\u001b[0m\u001b[0;34m(\u001b[0m\u001b[0;34m)\u001b[0m\u001b[0;34m\u001b[0m\u001b[0m\n",
        "\u001b[0;31mRuntimeError\u001b[0m: You must first define an image, eg with imshow"
       ]
      },
      {
       "metadata": {},
       "output_type": "display_data",
       "png": "[encoded data removed]",
       "text": [
        "<matplotlib.figure.Figure at 0x10b3aa910>"
       ]
      }
     ],
     "prompt_number": 180
    },
    {
     "cell_type": "code",
     "collapsed": false,
     "input": [],
     "language": "python",
     "metadata": {},
     "outputs": [
      {
       "html": [
        "<div style=\"max-height:1000px;max-width:1500px;overflow:auto;\">\n",
        "<table border=\"1\" class=\"dataframe\">\n",
        "  <thead>\n",
        "    <tr style=\"text-align: right;\">\n",
        "      <th></th>\n",
        "      <th>american</th>\n",
        "      <th>mexican</th>\n",
        "      <th>fast food</th>\n",
        "      <th>pizza</th>\n",
        "      <th>burgers</th>\n",
        "      <th>sandwiches</th>\n",
        "      <th>italian</th>\n",
        "      <th>breakfast</th>\n",
        "      <th>sushi</th>\n",
        "      <th>chinese</th>\n",
        "    </tr>\n",
        "  </thead>\n",
        "  <tbody>\n",
        "    <tr>\n",
        "      <th>american</th>\n",
        "      <td> 0.447278</td>\n",
        "      <td>-1.357497</td>\n",
        "      <td>-1.552508</td>\n",
        "      <td>-1.174934</td>\n",
        "      <td>-0.157189</td>\n",
        "      <td>-2.009350</td>\n",
        "      <td> 0.116415</td>\n",
        "      <td>-0.599594</td>\n",
        "      <td>-0.480530</td>\n",
        "      <td>-2.527561</td>\n",
        "    </tr>\n",
        "    <tr>\n",
        "      <th>mexican</th>\n",
        "      <td>-1.357497</td>\n",
        "      <td> 0.079045</td>\n",
        "      <td> 0.375493</td>\n",
        "      <td>-0.775842</td>\n",
        "      <td>-0.316888</td>\n",
        "      <td> 0.182134</td>\n",
        "      <td>-0.998313</td>\n",
        "      <td>-0.302184</td>\n",
        "      <td>-0.891392</td>\n",
        "      <td>-0.578102</td>\n",
        "    </tr>\n",
        "    <tr>\n",
        "      <th>fast food</th>\n",
        "      <td>-1.552508</td>\n",
        "      <td> 0.375493</td>\n",
        "      <td> 2.204848</td>\n",
        "      <td>-1.471190</td>\n",
        "      <td>-0.141678</td>\n",
        "      <td>-0.097447</td>\n",
        "      <td>-1.272367</td>\n",
        "      <td>-0.350655</td>\n",
        "      <td>-2.503455</td>\n",
        "      <td> 1.011807</td>\n",
        "    </tr>\n",
        "    <tr>\n",
        "      <th>pizza</th>\n",
        "      <td>-1.174934</td>\n",
        "      <td>-0.775842</td>\n",
        "      <td>-1.471190</td>\n",
        "      <td>-0.570828</td>\n",
        "      <td>-0.816594</td>\n",
        "      <td>-1.528012</td>\n",
        "      <td> 1.962690</td>\n",
        "      <td>-1.296879</td>\n",
        "      <td> 1.005212</td>\n",
        "      <td>-2.064042</td>\n",
        "    </tr>\n",
        "    <tr>\n",
        "      <th>burgers</th>\n",
        "      <td>-0.157189</td>\n",
        "      <td>-0.316888</td>\n",
        "      <td>-0.141678</td>\n",
        "      <td>-0.816594</td>\n",
        "      <td>-0.895719</td>\n",
        "      <td>-1.129505</td>\n",
        "      <td>-0.126187</td>\n",
        "      <td> 0.546570</td>\n",
        "      <td> 1.277142</td>\n",
        "      <td>-0.229301</td>\n",
        "    </tr>\n",
        "    <tr>\n",
        "      <th>sandwiches</th>\n",
        "      <td>-2.009350</td>\n",
        "      <td> 0.182134</td>\n",
        "      <td>-0.097447</td>\n",
        "      <td>-1.528012</td>\n",
        "      <td>-1.129505</td>\n",
        "      <td> 0.162305</td>\n",
        "      <td>-0.434139</td>\n",
        "      <td> 0.088048</td>\n",
        "      <td> 2.204775</td>\n",
        "      <td> 2.394711</td>\n",
        "    </tr>\n",
        "    <tr>\n",
        "      <th>italian</th>\n",
        "      <td> 0.116415</td>\n",
        "      <td>-0.998313</td>\n",
        "      <td>-1.272367</td>\n",
        "      <td> 1.962690</td>\n",
        "      <td>-0.126187</td>\n",
        "      <td>-0.434139</td>\n",
        "      <td> 1.254062</td>\n",
        "      <td>-1.284851</td>\n",
        "      <td> 0.090764</td>\n",
        "      <td>-1.823729</td>\n",
        "    </tr>\n",
        "    <tr>\n",
        "      <th>breakfast</th>\n",
        "      <td>-0.599594</td>\n",
        "      <td>-0.302184</td>\n",
        "      <td>-0.350655</td>\n",
        "      <td>-1.296879</td>\n",
        "      <td> 0.546570</td>\n",
        "      <td> 0.088048</td>\n",
        "      <td>-1.284851</td>\n",
        "      <td>-1.812208</td>\n",
        "      <td> 0.259426</td>\n",
        "      <td> 0.409086</td>\n",
        "    </tr>\n",
        "    <tr>\n",
        "      <th>sushi</th>\n",
        "      <td>-0.480530</td>\n",
        "      <td>-0.891392</td>\n",
        "      <td>-2.503455</td>\n",
        "      <td> 1.005212</td>\n",
        "      <td> 1.277142</td>\n",
        "      <td> 2.204775</td>\n",
        "      <td> 0.090764</td>\n",
        "      <td> 0.259426</td>\n",
        "      <td> 1.393255</td>\n",
        "      <td> 1.288404</td>\n",
        "    </tr>\n",
        "    <tr>\n",
        "      <th>chinese</th>\n",
        "      <td>-2.527561</td>\n",
        "      <td>-0.578102</td>\n",
        "      <td> 1.011807</td>\n",
        "      <td>-2.064042</td>\n",
        "      <td>-0.229301</td>\n",
        "      <td> 2.394711</td>\n",
        "      <td>-1.823729</td>\n",
        "      <td> 0.409086</td>\n",
        "      <td> 1.288404</td>\n",
        "      <td> 8.792767</td>\n",
        "    </tr>\n",
        "  </tbody>\n",
        "</table>\n",
        "<p>10 rows \u00d7 10 columns</p>\n",
        "</div>"
       ],
       "metadata": {},
       "output_type": "pyout",
       "prompt_number": 154,
       "text": [
        "            american   mexican  fast food     pizza   burgers  sandwiches  \\\n",
        "american    0.447278 -1.357497  -1.552508 -1.174934 -0.157189   -2.009350   \n",
        "mexican    -1.357497  0.079045   0.375493 -0.775842 -0.316888    0.182134   \n",
        "fast food  -1.552508  0.375493   2.204848 -1.471190 -0.141678   -0.097447   \n",
        "pizza      -1.174934 -0.775842  -1.471190 -0.570828 -0.816594   -1.528012   \n",
        "burgers    -0.157189 -0.316888  -0.141678 -0.816594 -0.895719   -1.129505   \n",
        "sandwiches -2.009350  0.182134  -0.097447 -1.528012 -1.129505    0.162305   \n",
        "italian     0.116415 -0.998313  -1.272367  1.962690 -0.126187   -0.434139   \n",
        "breakfast  -0.599594 -0.302184  -0.350655 -1.296879  0.546570    0.088048   \n",
        "sushi      -0.480530 -0.891392  -2.503455  1.005212  1.277142    2.204775   \n",
        "chinese    -2.527561 -0.578102   1.011807 -2.064042 -0.229301    2.394711   \n",
        "\n",
        "             italian  breakfast     sushi   chinese  \n",
        "american    0.116415  -0.599594 -0.480530 -2.527561  \n",
        "mexican    -0.998313  -0.302184 -0.891392 -0.578102  \n",
        "fast food  -1.272367  -0.350655 -2.503455  1.011807  \n",
        "pizza       1.962690  -1.296879  1.005212 -2.064042  \n",
        "burgers    -0.126187   0.546570  1.277142 -0.229301  \n",
        "sandwiches -0.434139   0.088048  2.204775  2.394711  \n",
        "italian     1.254062  -1.284851  0.090764 -1.823729  \n",
        "breakfast  -1.284851  -1.812208  0.259426  0.409086  \n",
        "sushi       0.090764   0.259426  1.393255  1.288404  \n",
        "chinese    -1.823729   0.409086  1.288404  8.792767  \n",
        "\n",
        "[10 rows x 10 columns]"
       ]
      }
     ],
     "prompt_number": 154
    },
    {
     "cell_type": "code",
     "collapsed": false,
     "input": [
      "vc[:].plot(kind='bar')\n",
      "plt.show()"
     ],
     "language": "python",
     "metadata": {},
     "outputs": [],
     "prompt_number": 19
    },
    {
     "cell_type": "code",
     "collapsed": false,
     "input": [
      "(rdf['clusterratio'][:20]*100.0/precent_cluster).plot(kind='bar')\n",
      "plt.show()"
     ],
     "language": "python",
     "metadata": {},
     "outputs": [],
     "prompt_number": 20
    },
    {
     "cell_type": "code",
     "collapsed": false,
     "input": [
      "cluster_df = df[df.cluster_num != -1]\n",
      "non_cluster_df = df[df.cluster_num == -1]\n",
      "non_cluster_df['rating'].hist(normed=True, alpha=0.5, label='non-clustered')\n",
      "cluster_df['rating'].hist(normed=True, alpha=0.5, label='clustered')\n",
      "plt.legend(loc='upper left')\n",
      "plt.xlabel('Review Score (stars)')\n",
      "plt.show()"
     ],
     "language": "python",
     "metadata": {},
     "outputs": [],
     "prompt_number": 19
    },
    {
     "cell_type": "code",
     "collapsed": false,
     "input": [
      "non_cluster_df['n_reviews'].hist(bins=100,normed=True,alpha=0.5,label='non-clustered')\n",
      "cluster_df['n_reviews'].hist(bins=100,normed=True,alpha=0.5,label='clustered')\n",
      "plt.legend(loc='upper right')\n",
      "plt.xlabel('Number of reviews')\n",
      "plt.show()"
     ],
     "language": "python",
     "metadata": {},
     "outputs": [
      {
       "ename": "NameError",
       "evalue": "name 'non_cluster_df' is not defined",
       "output_type": "pyerr",
       "traceback": [
        "\u001b[0;31m---------------------------------------------------------------------------\u001b[0m\n\u001b[0;31mNameError\u001b[0m                                 Traceback (most recent call last)",
        "\u001b[0;32m<ipython-input-21-e10664b127e7>\u001b[0m in \u001b[0;36m<module>\u001b[0;34m()\u001b[0m\n\u001b[0;32m----> 1\u001b[0;31m \u001b[0mnon_cluster_df\u001b[0m\u001b[0;34m[\u001b[0m\u001b[0;34m'n_reviews'\u001b[0m\u001b[0;34m]\u001b[0m\u001b[0;34m.\u001b[0m\u001b[0mhist\u001b[0m\u001b[0;34m(\u001b[0m\u001b[0mbins\u001b[0m\u001b[0;34m=\u001b[0m\u001b[0;36m100\u001b[0m\u001b[0;34m,\u001b[0m\u001b[0mnormed\u001b[0m\u001b[0;34m=\u001b[0m\u001b[0mTrue\u001b[0m\u001b[0;34m,\u001b[0m\u001b[0malpha\u001b[0m\u001b[0;34m=\u001b[0m\u001b[0;36m0.5\u001b[0m\u001b[0;34m,\u001b[0m\u001b[0mlabel\u001b[0m\u001b[0;34m=\u001b[0m\u001b[0;34m'non-clustered'\u001b[0m\u001b[0;34m)\u001b[0m\u001b[0;34m\u001b[0m\u001b[0m\n\u001b[0m\u001b[1;32m      2\u001b[0m \u001b[0mcluster_df\u001b[0m\u001b[0;34m[\u001b[0m\u001b[0;34m'n_reviews'\u001b[0m\u001b[0;34m]\u001b[0m\u001b[0;34m.\u001b[0m\u001b[0mhist\u001b[0m\u001b[0;34m(\u001b[0m\u001b[0mbins\u001b[0m\u001b[0;34m=\u001b[0m\u001b[0;36m100\u001b[0m\u001b[0;34m,\u001b[0m\u001b[0mnormed\u001b[0m\u001b[0;34m=\u001b[0m\u001b[0mTrue\u001b[0m\u001b[0;34m,\u001b[0m\u001b[0malpha\u001b[0m\u001b[0;34m=\u001b[0m\u001b[0;36m0.5\u001b[0m\u001b[0;34m,\u001b[0m\u001b[0mlabel\u001b[0m\u001b[0;34m=\u001b[0m\u001b[0;34m'clustered'\u001b[0m\u001b[0;34m)\u001b[0m\u001b[0;34m\u001b[0m\u001b[0m\n\u001b[1;32m      3\u001b[0m \u001b[0mplt\u001b[0m\u001b[0;34m.\u001b[0m\u001b[0mlegend\u001b[0m\u001b[0;34m(\u001b[0m\u001b[0mloc\u001b[0m\u001b[0;34m=\u001b[0m\u001b[0;34m'upper right'\u001b[0m\u001b[0;34m)\u001b[0m\u001b[0;34m\u001b[0m\u001b[0m\n\u001b[1;32m      4\u001b[0m \u001b[0mplt\u001b[0m\u001b[0;34m.\u001b[0m\u001b[0mxlabel\u001b[0m\u001b[0;34m(\u001b[0m\u001b[0;34m'Number of reviews'\u001b[0m\u001b[0;34m)\u001b[0m\u001b[0;34m\u001b[0m\u001b[0m\n\u001b[1;32m      5\u001b[0m \u001b[0mplt\u001b[0m\u001b[0;34m.\u001b[0m\u001b[0mshow\u001b[0m\u001b[0;34m(\u001b[0m\u001b[0;34m)\u001b[0m\u001b[0;34m\u001b[0m\u001b[0m\n",
        "\u001b[0;31mNameError\u001b[0m: name 'non_cluster_df' is not defined"
       ]
      }
     ],
     "prompt_number": 21
    },
    {
     "cell_type": "code",
     "collapsed": false,
     "input": [],
     "language": "python",
     "metadata": {},
     "outputs": []
    }
   ],
   "metadata": {}
  }
 ]
}